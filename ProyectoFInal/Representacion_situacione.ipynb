{
 "cells": [
  {
   "cell_type": "markdown",
   "metadata": {},
   "source": [
    "<table>\n",
    "    <tr>\n",
    "        <td><img src=\"./img/Macc.png\" width=\"auto\"/></td>\n",
    "        <td>\n",
    "            <table><tr>\n",
    "            <h1 style=\"color:blue;text-align:center\">Lógica para Ciencias de la Computación</h1></td>\n",
    "            </tr></table>   \n",
    "        <td>&nbsp;</td>\n",
    "        <td>\n",
    "            <table><tr>\n",
    "            <tp><p style=\"font-size:150%;text-align:center\">Taller</p></tp>\n",
    "            <tp><p style=\"font-size:150%;text-align:center\">Representación de situaciones</p></tp>\n",
    "            </tr></table>\n",
    "        </td>\n",
    "    </tr>\n",
    "</table>\n",
    "\n",
    "---"
   ]
  },
  {
   "cell_type": "markdown",
   "metadata": {},
   "source": [
    "# Objetivo <a class=\"anchor\" id=\"inicio\"></a>\n",
    "\n",
    "En clase hemos visto cómo representar situaciones, sus restricciones, y el objetivo que se busca resolver, por medio de fórmulas lógicas. El objetivo de este taller es explorar cómo implementar en Python la representación de situaciones."
   ]
  },
  {
   "cell_type": "markdown",
   "metadata": {},
   "source": [
    "# Secciones\n",
    "\n",
    "1. [Problema de ejemplo.](#prob)\n",
    "2. [Descriptores.](#des)\n",
    "3. [Implementación de restricciones.](#imp)"
   ]
  },
  {
   "cell_type": "markdown",
   "metadata": {},
   "source": [
    "# Problema de ejemplo <a class=\"anchor\" id=\"prob\"></a>\n",
    "\n",
    "([Volver al inicio](#inicio))\n",
    "\n",
    "Trabajaremos sobre el siguiente problema. Buscamos llenar todas las casillas en una tabla 2x2 con un número de 0 a 3, sin repetir. Por ejemplo:\n",
    "\n",
    "![ejemplo](img/tabla.png)\n",
    "\n",
    "Tenemos tres restricciones que debemos implementar para resolver el problema:\n",
    "\n",
    "1. Un número sólo está en una casilla.\n",
    "2. No hay más de un número en una casilla.\n",
    "3. Debe haber por lo menos un número en una casilla.\n"
   ]
  },
  {
   "cell_type": "markdown",
   "metadata": {},
   "source": [
    "# Descriptores <a class=\"anchor\" id=\"des\"></a>\n",
    "\n",
    "([Volver al inicio](#inicio))\n",
    "\n",
    "Debemos primero representar las letras proposicionales, las cuales cruzan la información de qué número está en qué casilla:\n",
    "\n",
    "$OenCasilla_{x,y,n}$ es verdadera sii el número $n$ está en la casilla $(x,y)$\n",
    "\n",
    "Para hacer la implementación en python, sugerimos usar la clase `Descriptor`, que se encuentra en la librería `Logica`.  Básicamente, lo que hace la codificación es representar un átomo como un solo caracter (es decir, una cadena de longitud 1).\n",
    "\n",
    "Importamos la clase a partir de la librería:"
   ]
  },
  {
   "cell_type": "code",
   "execution_count": 3,
   "metadata": {
    "ExecuteTime": {
     "end_time": "2023-05-28T19:52:58.065768Z",
     "start_time": "2023-05-28T19:52:57.130821Z"
    }
   },
   "outputs": [],
   "source": [
    "from Logica import *"
   ]
  },
  {
   "cell_type": "markdown",
   "metadata": {},
   "source": [
    "Ahora creamos un descriptor de tres argumentos, dos para la casilla $(x,y)$ y uno para los números:"
   ]
  },
  {
   "cell_type": "code",
   "execution_count": 4,
   "metadata": {
    "ExecuteTime": {
     "end_time": "2023-05-28T19:52:59.868217Z",
     "start_time": "2023-05-28T19:52:59.832990Z"
    }
   },
   "outputs": [],
   "source": [
    "# Nx corresponde a la cantidad de puentes\n",
    "# Turnos son la cantidad de turnos que puede tener la máquina\n",
    "# Sentidos corresponde sentidos correspondientes a cada puente\n",
    "Nx = 5\n",
    "turnos = 5\n",
    "sentidos = 2\n",
    "turnillo = list(range(turnos))\n",
    "numeros = list(range(Nx))\n",
    "X = list(range(Nx))\n",
    "Y = list(range(sentidos))\n",
    "caminos = Descriptor([Nx, turnos, sentidos])"
   ]
  },
  {
   "cell_type": "markdown",
   "metadata": {},
   "source": [
    "Métodos importantes del `Descriptor`:\n",
    "\n",
    "* P(`lista_valores`): Codifica el cruce de información correspondiente a los valores en `lista_valores` mediante un caracter.\n",
    "* inv(`caracter`): Decodifica `caracter` en una lista de valores. Esta lista depende del número de argumentos con que se haya inicializado el objeto descriptor. \n",
    "\n",
    "### Codificando en un solo caracter\n",
    "\n",
    "Mediante el método P() podemos crear las codificaciones. A continuación presentaremos cada uno de los caracteres que codifican los cruces de información de que un número $n$ (con $n\\in\\{0, 1, 2, 3\\}$) se encuentra en una casilla $(x,y)$ (donde $x,y\\in\\{0, 1\\}$):"
   ]
  },
  {
   "cell_type": "code",
   "execution_count": 5,
   "metadata": {
    "ExecuteTime": {
     "end_time": "2023-05-28T19:53:01.263295Z",
     "start_time": "2023-05-28T19:53:01.213604Z"
    }
   },
   "outputs": [
    {
     "name": "stdout",
     "output_type": "stream",
     "text": [
      "Cantidad de átomos Regla1: 50\n",
      "Caracteres correspondientes a los átomos caminos:\n",
      "\n",
      "El caminante pasa en el turno 0, por el puente 0 en el sentido 0, con el átomo Ā\n",
      "El caminante pasa en el turno 0, por el puente 0 en el sentido 1, con el átomo ę\n",
      "El caminante pasa en el turno 0, por el puente 1 en el sentido 0, con el átomo ā\n",
      "El caminante pasa en el turno 0, por el puente 1 en el sentido 1, con el átomo Ě\n",
      "El caminante pasa en el turno 0, por el puente 2 en el sentido 0, con el átomo Ă\n",
      "El caminante pasa en el turno 0, por el puente 2 en el sentido 1, con el átomo ě\n",
      "El caminante pasa en el turno 0, por el puente 3 en el sentido 0, con el átomo ă\n",
      "El caminante pasa en el turno 0, por el puente 3 en el sentido 1, con el átomo Ĝ\n",
      "El caminante pasa en el turno 0, por el puente 4 en el sentido 0, con el átomo Ą\n",
      "El caminante pasa en el turno 0, por el puente 4 en el sentido 1, con el átomo ĝ\n",
      "\n",
      "El caminante pasa en el turno 1, por el puente 0 en el sentido 0, con el átomo ą\n",
      "El caminante pasa en el turno 1, por el puente 0 en el sentido 1, con el átomo Ğ\n",
      "El caminante pasa en el turno 1, por el puente 1 en el sentido 0, con el átomo Ć\n",
      "El caminante pasa en el turno 1, por el puente 1 en el sentido 1, con el átomo ğ\n",
      "El caminante pasa en el turno 1, por el puente 2 en el sentido 0, con el átomo ć\n",
      "El caminante pasa en el turno 1, por el puente 2 en el sentido 1, con el átomo Ġ\n",
      "El caminante pasa en el turno 1, por el puente 3 en el sentido 0, con el átomo Ĉ\n",
      "El caminante pasa en el turno 1, por el puente 3 en el sentido 1, con el átomo ġ\n",
      "El caminante pasa en el turno 1, por el puente 4 en el sentido 0, con el átomo ĉ\n",
      "El caminante pasa en el turno 1, por el puente 4 en el sentido 1, con el átomo Ģ\n",
      "\n",
      "El caminante pasa en el turno 2, por el puente 0 en el sentido 0, con el átomo Ċ\n",
      "El caminante pasa en el turno 2, por el puente 0 en el sentido 1, con el átomo ģ\n",
      "El caminante pasa en el turno 2, por el puente 1 en el sentido 0, con el átomo ċ\n",
      "El caminante pasa en el turno 2, por el puente 1 en el sentido 1, con el átomo Ĥ\n",
      "El caminante pasa en el turno 2, por el puente 2 en el sentido 0, con el átomo Č\n",
      "El caminante pasa en el turno 2, por el puente 2 en el sentido 1, con el átomo ĥ\n",
      "El caminante pasa en el turno 2, por el puente 3 en el sentido 0, con el átomo č\n",
      "El caminante pasa en el turno 2, por el puente 3 en el sentido 1, con el átomo Ħ\n",
      "El caminante pasa en el turno 2, por el puente 4 en el sentido 0, con el átomo Ď\n",
      "El caminante pasa en el turno 2, por el puente 4 en el sentido 1, con el átomo ħ\n",
      "\n",
      "El caminante pasa en el turno 3, por el puente 0 en el sentido 0, con el átomo ď\n",
      "El caminante pasa en el turno 3, por el puente 0 en el sentido 1, con el átomo Ĩ\n",
      "El caminante pasa en el turno 3, por el puente 1 en el sentido 0, con el átomo Đ\n",
      "El caminante pasa en el turno 3, por el puente 1 en el sentido 1, con el átomo ĩ\n",
      "El caminante pasa en el turno 3, por el puente 2 en el sentido 0, con el átomo đ\n",
      "El caminante pasa en el turno 3, por el puente 2 en el sentido 1, con el átomo Ī\n",
      "El caminante pasa en el turno 3, por el puente 3 en el sentido 0, con el átomo Ē\n",
      "El caminante pasa en el turno 3, por el puente 3 en el sentido 1, con el átomo ī\n",
      "El caminante pasa en el turno 3, por el puente 4 en el sentido 0, con el átomo ē\n",
      "El caminante pasa en el turno 3, por el puente 4 en el sentido 1, con el átomo Ĭ\n",
      "\n",
      "El caminante pasa en el turno 4, por el puente 0 en el sentido 0, con el átomo Ĕ\n",
      "El caminante pasa en el turno 4, por el puente 0 en el sentido 1, con el átomo ĭ\n",
      "El caminante pasa en el turno 4, por el puente 1 en el sentido 0, con el átomo ĕ\n",
      "El caminante pasa en el turno 4, por el puente 1 en el sentido 1, con el átomo Į\n",
      "El caminante pasa en el turno 4, por el puente 2 en el sentido 0, con el átomo Ė\n",
      "El caminante pasa en el turno 4, por el puente 2 en el sentido 1, con el átomo į\n",
      "El caminante pasa en el turno 4, por el puente 3 en el sentido 0, con el átomo ė\n",
      "El caminante pasa en el turno 4, por el puente 3 en el sentido 1, con el átomo İ\n",
      "El caminante pasa en el turno 4, por el puente 4 en el sentido 0, con el átomo Ę\n",
      "El caminante pasa en el turno 4, por el puente 4 en el sentido 1, con el átomo ı\n",
      "\n"
     ]
    }
   ],
   "source": [
    "print(\"Cantidad de átomos Regla1:\", caminos.rango[1] - caminos.rango[0])\n",
    "print(\"Caracteres correspondientes a los átomos caminos:\\n\")\n",
    "for t in range(turnos):\n",
    "    for puente in range(Nx):\n",
    "        for sentido in range(sentidos):\n",
    "            atomo = caminos.P([puente, t, sentido])\n",
    "            print(f\"El caminante pasa en el turno {t}, por el puente {puente} en el sentido {sentido}, con el átomo {atomo}\")\n",
    "    print(\"\")"
   ]
  },
  {
   "cell_type": "markdown",
   "metadata": {},
   "source": [
    "### Decodificando el caracter\n",
    "\n",
    "Ahora podemos incluir un método para visualizar más fácilmente la información que porta cada letra proposicional. Esto es, en nuestro ejemplo en cuestión, nuestro objeto `OenCasilla` representa el cruce de información de que un número se encuentra en un lugar. Entonces, al decodificar una letra proposicional, queremos que nos presente claramente esta información y no un caracter inpronunciable (aunque es precisamente este caracter el que usará la máquina). \n",
    "\n",
    "Para ello podemos usar el siguiente método `escribir`: "
   ]
  },
  {
   "cell_type": "code",
   "execution_count": 6,
   "metadata": {
    "ExecuteTime": {
     "end_time": "2023-05-28T19:53:02.905617Z",
     "start_time": "2023-05-28T19:53:02.869270Z"
    }
   },
   "outputs": [],
   "source": [
    "def escribir(self, literal):\n",
    "    if '-' in literal:\n",
    "        atomo = literal[1:]\n",
    "        neg = ' no'\n",
    "    else:\n",
    "        atomo = literal\n",
    "        neg = ''\n",
    "    x, y, n  = self.inv(atomo)\n",
    "    return f\"El caminante, pasa por el puente {[x]}{neg} en el turno {[y]}, hacia la dirección{[n]}\"\n",
    "\n",
    "from types import MethodType\n",
    "\n",
    "caminos.escribir = MethodType(escribir, caminos)"
   ]
  },
  {
   "cell_type": "code",
   "execution_count": 7,
   "metadata": {
    "ExecuteTime": {
     "end_time": "2023-05-28T19:53:03.972677Z",
     "start_time": "2023-05-28T19:53:03.864775Z"
    }
   },
   "outputs": [
    {
     "name": "stdout",
     "output_type": "stream",
     "text": [
      "El caracter que codifica es Ĕ\n",
      "\n",
      "Su decodificación es:\n"
     ]
    },
    {
     "data": {
      "text/plain": "'El caminante, pasa por el puente [0] en el turno [4], hacia la dirección[0]'"
     },
     "execution_count": 7,
     "metadata": {},
     "output_type": "execute_result"
    }
   ],
   "source": [
    "atomo = caminos.P([0,4,0])\n",
    "print(f\"El caracter que codifica es {atomo}\")\n",
    "print(\"\\nSu decodificación es:\")\n",
    "caminos.escribir(atomo)"
   ]
  },
  {
   "cell_type": "markdown",
   "metadata": {},
   "source": [
    "Este método también toma en cuenta si el literal es positivo o negativo:"
   ]
  },
  {
   "cell_type": "code",
   "execution_count": 8,
   "metadata": {
    "ExecuteTime": {
     "end_time": "2023-05-28T19:53:06.835146Z",
     "start_time": "2023-05-28T19:53:06.793573Z"
    }
   },
   "outputs": [
    {
     "data": {
      "text/plain": "'El caminante, pasa por el puente [0] no en el turno [4], hacia la dirección[0]'"
     },
     "execution_count": 8,
     "metadata": {},
     "output_type": "execute_result"
    }
   ],
   "source": [
    "caminos.escribir('-' + atomo)"
   ]
  },
  {
   "cell_type": "markdown",
   "metadata": {},
   "source": [
    "# Implementación de restricciones <a class=\"anchor\" id=\"imp\"></a>\n",
    "\n",
    "([Volver al inicio](#inicio))\n",
    "\n",
    "Ahora es necesario crear las reglas que limitarán los valores de verdad para las letras proposicionales. En nuestro problema de ejemplo tenemos tres restricciones:\n",
    "\n",
    "1. Un número sólo está en una casilla.\n",
    "2. No hay más de un número en una casilla.\n",
    "3. Debe haber por lo menos un número en una casilla."
   ]
  },
  {
   "cell_type": "markdown",
   "metadata": {},
   "source": [
    "## Restricción 1\n",
    "\n",
    "Comencemos por considerar la restricción 1, que dice que un número sólo está en una casilla:\n",
    "\n",
    "$$\\bigwedge_{x\\in\\{0,1\\}}\\bigwedge_{y\\in\\{0,1\\}}\\bigwedge_{n\\in Numeros}\\left(OenCasilla_{x,y,n}\\to\\neg\\left(\\bigvee_{(u,v)\\neq (x,y)} OenCasilla_{u,v,n}\\right)\\right)$$\n",
    "\n",
    "Saber cómo implementar toda esta fórmula de un solo tirón, con itorias y otorias anidadas, no es fácil. Desarrollaremos esta implementación siguiendo una serie de pasos, cada uno con mayor generalidad que el anterior.\n",
    "\n",
    "### Paso 1\n",
    "\n",
    "La fórmula para representar que si el 0 está en la casilla $(0,0)$, entonces no puede estar en ninguna otra casilla, es la siguiente:\n",
    "\n",
    "$$OenCasilla_{0,0,0} \\to \\neg\\left(\\bigvee_{(u,v)\\neq (0,0)} OenCasilla_{u,v,0}\\right)$$\n",
    "\n",
    "Esta fórmula se implementa en Python de la siguiente manera:"
   ]
  },
  {
   "cell_type": "code",
   "execution_count": 9,
   "metadata": {
    "ExecuteTime": {
     "end_time": "2023-05-28T19:53:09.088305Z",
     "start_time": "2023-05-28T19:53:09.020269Z"
    }
   },
   "outputs": [
    {
     "name": "stdout",
     "output_type": "stream",
     "text": [
      "(ĭ>-((((((((ąOą)OĞ)OĊ)Oģ)Oď)OĨ)OĔ)Oĭ))\n"
     ]
    },
    {
     "data": {
      "text/plain": "'El caminante, pasa por el puente [0] en el turno [0], hacia la dirección[1]'"
     },
     "execution_count": 9,
     "metadata": {},
     "output_type": "execute_result"
    }
   ],
   "source": [
    "sentido = 0\n",
    "puente = 0\n",
    "puentes_sentidos = (puente, sentido)\n",
    "otros_puentes = [(i,j) for i in X for j in Y if (i,j) != (puente,sentido)]\n",
    "turno = 0\n",
    "formula1 = ''\n",
    "inicial = True\n",
    "for otro_puente in otros_puentes:\n",
    "    puente = otro_puente[0] # Puente\n",
    "    sentido = otro_puente[1] #senttido\n",
    "    if inicial:\n",
    "        formula1 = caminos.P([puente,sentido,turno])\n",
    "        inicial = False\n",
    "    else:\n",
    "        formula1 = \"(\" + formula1 + \"O\" + caminos.P([turno,puente,sentido]) + \")\"\n",
    "\n",
    "formula1 = \"(\" + caminos.P([turno,puente,sentido]) + \">-\" + formula1 + \")\"\n",
    "\n",
    "atomo2 = caminos.P([0, 0, 1])\n",
    "print(formula1)\n",
    "\n",
    "caminos.escribir(atomo2)\n"
   ]
  },
  {
   "cell_type": "code",
   "execution_count": 10,
   "outputs": [
    {
     "name": "stdout",
     "output_type": "stream",
     "text": [
      "(El caminante, pasa por el puente [0] en el turno [0], hacia la dirección[0]Y((((El caminante, pasa por el puente [0] no en el turno [1], hacia la dirección[0]Y)El caminante, pasa por el puente [0] no en el turno [2], hacia la dirección[0]Y)El caminante, pasa por el puente [0] no en el turno [3], hacia la dirección[0]Y)El caminante, pasa por el puente [0] no en el turno [4], hacia la dirección[0]Y))\n",
      "\n",
      "(El caminante, pasa por el puente [3] en el turno [0], hacia la dirección[1]Y((((YEl caminante, pasa por el puente [3] no en el turno [1], hacia la dirección[1])YEl caminante, pasa por el puente [3] no en el turno [2], hacia la dirección[1])YEl caminante, pasa por el puente [3] no en el turno [3], hacia la dirección[1])YEl caminante, pasa por el puente [3] no en el turno [4], hacia la dirección[1]))\n",
      "\n",
      "(El caminante, pasa por el puente [4] en el turno [0], hacia la dirección[0]Y((((YEl caminante, pasa por el puente [4] no en el turno [1], hacia la dirección[0])YEl caminante, pasa por el puente [4] no en el turno [2], hacia la dirección[0])YEl caminante, pasa por el puente [4] no en el turno [3], hacia la dirección[0])YEl caminante, pasa por el puente [4] no en el turno [4], hacia la dirección[0]))\n"
     ]
    }
   ],
   "source": [
    "#Creación de puentes\n",
    "#Sentido p es decir 0,0,0\n",
    "#Sentido q es decir 0,0,1\n",
    "atomo1 = caminos.P([0,0,0])\n",
    "atomo2 = caminos.P([0,0,1])\n",
    "puente1 = [atomo1, atomo2]\n",
    "#Creacion de todos los puentes\n",
    "atomo1_en_turno_aleatorio = caminos.P([0,t,0])\n",
    "atomo2_en_turno_aleatorio = caminos.P([0,t,1])\n",
    "\n",
    "#Creacion puente 3: el sentido x es el 3,t,0 y el sentido y es 3,t,1\n",
    "atomoX = caminos.P([3,t,0])\n",
    "atomoY = caminos.P([3,t,1])\n",
    "#Creacion Puente 4: En el sentido b es el 4,t,0 y en el sentido c es 4,t,1\n",
    "atomoB = caminos.P([4,t,0])\n",
    "atomoC = caminos.P([4,t,1])\n",
    "#Sentido B en el turno 0\n",
    "atomoB0 =caminos.P([4,0,0])\n",
    "sentidoB_en_diferentes_turnos = [caminos.P([4,1,0]), caminos.P([4,2,0]), caminos.P([4,3,0]), caminos.P([4,4,0])]\n",
    "#Pasa por Y en el turno 0\n",
    "atomoY0 = caminos.P([3,0,1])\n",
    "sentidoY_en_diferentes_turnos = [caminos.P([3,1,1]), caminos.P([3,2,1]), caminos.P([3,3,1]), caminos.P([3,4,1])]\n",
    "#Creación de los sentidos en diferentes turnos del puente 1\n",
    "sentidop_en_diferentes_turnos = [caminos.P([0,1,0]), caminos.P([0,2,0]), caminos.P([0,3,0]),caminos.P([0,4,0])]\n",
    "sentidoq_en_diferentes_turnos = [caminos.P([0,1,1]), caminos.P([0,2,1]), caminos.P([0,3,1]), caminos.P([0,4,1])]\n",
    "\n",
    "#print(sentidoY_en_diferentes_turnos)\n",
    "#Creación que debe comenzar por Y, P, B\n",
    "sentido_p_en_todosLosTurnos_menos1 = ''\n",
    "sentidoY_en_todosLosTurnos_menos1 = ''\n",
    "sentidoB_en_todosLosTurnos_menos1 = ''\n",
    "\n",
    "#Comienza en B\n",
    "for turno in sentidoB_en_diferentes_turnos:\n",
    "    sentidoB_en_todosLosTurnos_menos1 = \"(\" + sentidoB_en_todosLosTurnos_menos1 + \"Y\" + caminos.escribir('-' + turno) + \")\"\n",
    "\n",
    "    debe_comenzar_en_b = \"(\" + caminos.escribir(atomoB0) + \"Y\" + sentidoB_en_todosLosTurnos_menos1 + \")\"\n",
    "\n",
    "#Comienza en Y\n",
    "for turno in sentidoY_en_diferentes_turnos:\n",
    "    sentidoY_en_todosLosTurnos_menos1 = \"(\" + sentidoY_en_todosLosTurnos_menos1 + \"Y\" + caminos.escribir('-' + turno) + \")\"\n",
    "\n",
    "    debe_comenzar_en_y = \"(\" + caminos.escribir(atomoY0) + \"Y\" + sentidoY_en_todosLosTurnos_menos1 + \")\"\n",
    "\n",
    "#Comienza en P\n",
    "for turno in sentidop_en_diferentes_turnos:\n",
    "    sentido_p_en_todosLosTurnos_menos1 = \"(\" + sentido_p_en_todosLosTurnos_menos1 + caminos.escribir('-' + turno) + \"Y\" + \")\"\n",
    "\n",
    "    debe_comenzar_en_p = \"(\" + caminos.escribir(atomo1) + \"Y\" + sentido_p_en_todosLosTurnos_menos1 + \")\"\n",
    "\n",
    "\n",
    "\n",
    "#print(sentido_p_en_todosLosTurnos_menos1)\n",
    "print(debe_comenzar_en_p)\n",
    "print(\"\")\n",
    "print(debe_comenzar_en_y)\n",
    "print(\"\")\n",
    "print(debe_comenzar_en_b)"
   ],
   "metadata": {
    "collapsed": false,
    "ExecuteTime": {
     "end_time": "2023-05-28T19:53:10.712033Z",
     "start_time": "2023-05-28T19:53:10.625997Z"
    }
   }
  },
  {
   "cell_type": "code",
   "execution_count": 20,
   "outputs": [],
   "source": [
    "#Creación de puentes\n",
    "#Sentido p es decir 0,0,0\n",
    "#Sentido q es decir 0,0,1\n",
    "\n",
    "atomo1 = caminos.P([0,0,0])\n",
    "atomo2 = caminos.P([0,0,1])\n",
    "puente0 = [atomo1, atomo2]\n",
    "#Creacion de todos los puentes\n",
    "\n",
    "#Para el puente 1 está el sentido r: (1,t,0) y el sentido s: (1,t,1)\n",
    "atomoR = caminos.P([1,t,0])\n",
    "atomoS = caminos.P([1,t,1])\n",
    "puente1 = [atomoR, atomoS]\n",
    "\n",
    "#Para el puente 2 está el sentido t: (2,t,0) y el sentido u: (2,t,1)\n",
    "atomoT = caminos.P([2,t,0])\n",
    "atomoU = caminos.P([2,t,1])\n",
    "puente2 = [atomoT, atomoU]\n",
    "\n",
    "#Para el puente 3 está el sentido x: (3,t,0) y el sentido y: (3,t,1)\n",
    "atomoX = caminos.P([3,t,0])\n",
    "atomoY = atomoY0 #Ya fue previamente creado, solo es referenciado por orden.\n",
    "puente3 = [atomoX, atomoY]\n",
    "\n",
    "#Para el puente 4 está el sentido b: (4,t,0) y el sentido c: (4,t,1)\n",
    "atomoB = atomoB #Fue creado previamente\n",
    "atomoC = caminos.P([4,t,1])\n",
    "puente4 = [atomoB, atomoC]\n"
   ],
   "metadata": {
    "collapsed": false,
    "ExecuteTime": {
     "end_time": "2023-05-28T20:23:25.297378Z",
     "start_time": "2023-05-28T20:23:25.276791Z"
    }
   }
  },
  {
   "cell_type": "code",
   "execution_count": 87,
   "outputs": [
    {
     "name": "stdout",
     "output_type": "stream",
     "text": [
      "['El caminante, pasa por el puente [0] en el turno [0], hacia la dirección[0]', 'El caminante, pasa por el puente [0] en el turno [1], hacia la dirección[0]', 'El caminante, pasa por el puente [0] en el turno [2], hacia la dirección[0]', 'El caminante, pasa por el puente [0] en el turno [3], hacia la dirección[0]', 'El caminante, pasa por el puente [0] en el turno [4], hacia la dirección[0]']\n"
     ]
    }
   ],
   "source": [
    "#Creacion del puente 0 en todos los turnos posibles\n",
    "atomoP = []\n",
    "p = []\n",
    "\n",
    "for turno in turnillo:\n",
    "    atomoP.append((0, turnillo[turno], 0))\n",
    "\n",
    "for i in atomoP:\n",
    "    atomos_deP = caminos.P(i)\n",
    "    for atomo in atomos_deP:\n",
    "        bundes = caminos.escribir(atomo)\n",
    "        p.append(bundes)\n",
    "\n",
    "#print(p)\n",
    "\n",
    "atomoQ = []\n",
    "q = []\n",
    "\n",
    "for turno in turnillo:\n",
    "    atomoQ.append((0, turnillo[turno], 0))\n",
    "\n",
    "for i in atomoQ:\n",
    "    atomos_deQ = caminos.P(i)\n",
    "    for atomo in atomos_deQ:\n",
    "        champ = caminos.escribir(atomo)\n",
    "        q.append(champ)\n",
    "\n",
    "print(q)"
   ],
   "metadata": {
    "collapsed": false,
    "ExecuteTime": {
     "end_time": "2023-05-28T22:51:12.887189Z",
     "start_time": "2023-05-28T22:51:12.870929Z"
    }
   }
  },
  {
   "cell_type": "code",
   "execution_count": 56,
   "outputs": [
    {
     "name": "stdout",
     "output_type": "stream",
     "text": [
      "['El caminante, pasa por el puente [1] en el turno [0], hacia la dirección[1]', 'El caminante, pasa por el puente [1] en el turno [1], hacia la dirección[1]', 'El caminante, pasa por el puente [1] en el turno [2], hacia la dirección[1]', 'El caminante, pasa por el puente [1] en el turno [3], hacia la dirección[1]', 'El caminante, pasa por el puente [1] en el turno [4], hacia la dirección[1]']\n"
     ]
    }
   ],
   "source": [
    "#Creación del puente 1 en todos los turnos posibles\n",
    "atomoR = []\n",
    "r = []\n",
    "for turno in turnillo:\n",
    "    atomoR.append((1, turnillo[turno], 0))\n",
    "\n",
    "for i in atomoR:\n",
    "    atomos_deR = caminos.P(i)\n",
    "    for atomo in atomos_deR:\n",
    "        manutd = caminos.escribir(atomo)\n",
    "        r.append(manutd)\n",
    "\n",
    "atomoS = []\n",
    "s = []\n",
    "for turno in turnillo:\n",
    "    atomoS.append((1, turnillo[turno], 1))\n",
    "\n",
    "for i in atomoS:\n",
    "    atomos_deS = caminos.P(i)\n",
    "    for atomo in atomos_deS:\n",
    "        mancity = caminos.escribir(atomo)\n",
    "        s.append(mancity)\n",
    "print(s)"
   ],
   "metadata": {
    "collapsed": false,
    "ExecuteTime": {
     "end_time": "2023-05-28T21:21:14.507031Z",
     "start_time": "2023-05-28T21:21:14.463022Z"
    }
   }
  },
  {
   "cell_type": "code",
   "execution_count": 53,
   "outputs": [
    {
     "name": "stdout",
     "output_type": "stream",
     "text": [
      "['El caminante, pasa por el puente [2] en el turno [0], hacia la dirección[1]', 'El caminante, pasa por el puente [2] en el turno [1], hacia la dirección[1]', 'El caminante, pasa por el puente [2] en el turno [2], hacia la dirección[1]', 'El caminante, pasa por el puente [2] en el turno [3], hacia la dirección[1]', 'El caminante, pasa por el puente [2] en el turno [4], hacia la dirección[1]']\n"
     ]
    }
   ],
   "source": [
    "#Creación del puente 2 en todos los turnos posibles\n",
    "atomoT = []\n",
    "t = []\n",
    "for turno in turnillo:\n",
    "    atomoT.append((2, turnillo[turno], 0))\n",
    "\n",
    "for i in atomoT:\n",
    "    atomos_deT = caminos.P(i)\n",
    "    for atomo in atomos_deT:\n",
    "        cristiano = caminos.escribir(atomo)\n",
    "        t.append(cristiano)\n",
    "#print(t)\n",
    "\n",
    "atomoU = []\n",
    "u = []\n",
    "for turno in turnillo:\n",
    "    atomoU.append((2, turnillo[turno], 1))\n",
    "\n",
    "for i in atomoU:\n",
    "    atomos_deU = caminos.P(i)\n",
    "    for atomo in atomos_deU:\n",
    "        lio = caminos.escribir(atomo)\n",
    "        u.append(lio)\n",
    "\n",
    "print(u)"
   ],
   "metadata": {
    "collapsed": false,
    "ExecuteTime": {
     "end_time": "2023-05-28T21:13:20.295719Z",
     "start_time": "2023-05-28T21:13:20.284478Z"
    }
   }
  },
  {
   "cell_type": "code",
   "execution_count": 51,
   "outputs": [
    {
     "name": "stdout",
     "output_type": "stream",
     "text": [
      "['El caminante, pasa por el puente [3] en el turno [0], hacia la dirección[1]', 'El caminante, pasa por el puente [3] en el turno [1], hacia la dirección[1]', 'El caminante, pasa por el puente [3] en el turno [2], hacia la dirección[1]', 'El caminante, pasa por el puente [3] en el turno [3], hacia la dirección[1]', 'El caminante, pasa por el puente [3] en el turno [4], hacia la dirección[1]']\n"
     ]
    }
   ],
   "source": [
    "#Creación del puente 3 en todos los turnos posibles\n",
    "atomoX = []\n",
    "x = []\n",
    "for turno in turnillo:\n",
    "    atomoX.append((3, turnillo[turno], 0))\n",
    "\n",
    "for i in atomoX:\n",
    "    atomos_deX = caminos.P(i)\n",
    "    for atomo in atomos_deX:\n",
    "        l = caminos.escribir(atomo)\n",
    "        x.append(l)\n",
    "\n",
    "atomoY = []\n",
    "y = []\n",
    "for turno in turnillo:\n",
    "    atomoY.append((3, turnillo[turno], 1))\n",
    "\n",
    "for i in atomoY:\n",
    "    atomos_deY = caminos.P(i)\n",
    "    for atomo in atomos_deY:\n",
    "        mbape = caminos.escribir(atomo)\n",
    "        y.append(mbape)\n",
    "print(y)"
   ],
   "metadata": {
    "collapsed": false,
    "ExecuteTime": {
     "end_time": "2023-05-28T21:08:23.498619Z",
     "start_time": "2023-05-28T21:08:23.481002Z"
    }
   }
  },
  {
   "cell_type": "code",
   "execution_count": 83,
   "outputs": [
    {
     "ename": "TypeError",
     "evalue": "'>=' not supported between instances of 'str' and 'int'",
     "output_type": "error",
     "traceback": [
      "\u001B[0;31m---------------------------------------------------------------------------\u001B[0m",
      "\u001B[0;31mTypeError\u001B[0m                                 Traceback (most recent call last)",
      "Cell \u001B[0;32mIn[83], line 24\u001B[0m\n\u001B[1;32m     22\u001B[0m         n \u001B[38;5;241m=\u001B[39m caminos\u001B[38;5;241m.\u001B[39mescribir(atomo)\n\u001B[1;32m     23\u001B[0m         c\u001B[38;5;241m.\u001B[39mappend(n)\n\u001B[0;32m---> 24\u001B[0m \u001B[38;5;28mprint\u001B[39m(\u001B[43mcaminos\u001B[49m\u001B[38;5;241;43m.\u001B[39;49m\u001B[43mP\u001B[49m\u001B[43m(\u001B[49m\u001B[43mp\u001B[49m\u001B[43m[\u001B[49m\u001B[38;5;241;43m0\u001B[39;49m\u001B[43m]\u001B[49m\u001B[43m)\u001B[49m)\n",
      "File \u001B[0;32m~/Documents/urosario/SEGUNDO SEMESTRE/Logica para CS/ProyectoFInal/Logica.py:484\u001B[0m, in \u001B[0;36mDescriptor.P\u001B[0;34m(self, lista_valores)\u001B[0m\n\u001B[1;32m    483\u001B[0m \u001B[38;5;28;01mdef\u001B[39;00m \u001B[38;5;21mP\u001B[39m(\u001B[38;5;28mself\u001B[39m,lista_valores) :\n\u001B[0;32m--> 484\u001B[0m     codigo \u001B[38;5;241m=\u001B[39m \u001B[38;5;28;43mself\u001B[39;49m\u001B[38;5;241;43m.\u001B[39;49m\u001B[43mcodifica\u001B[49m\u001B[43m(\u001B[49m\u001B[43mlista_valores\u001B[49m\u001B[43m)\u001B[49m\n\u001B[1;32m    485\u001B[0m     \u001B[38;5;28;01mreturn\u001B[39;00m \u001B[38;5;28mchr\u001B[39m(\u001B[38;5;28mself\u001B[39m\u001B[38;5;241m.\u001B[39mchrInit\u001B[38;5;241m+\u001B[39mcodigo)\n",
      "File \u001B[0;32m~/Documents/urosario/SEGUNDO SEMESTRE/Logica para CS/ProyectoFInal/Logica.py:465\u001B[0m, in \u001B[0;36mDescriptor.codifica\u001B[0;34m(self, lista_valores)\u001B[0m\n\u001B[1;32m    464\u001B[0m \u001B[38;5;28;01mdef\u001B[39;00m \u001B[38;5;21mcodifica\u001B[39m(\u001B[38;5;28mself\u001B[39m,lista_valores) :\n\u001B[0;32m--> 465\u001B[0m     \u001B[38;5;28;43mself\u001B[39;49m\u001B[38;5;241;43m.\u001B[39;49m\u001B[43mcheck_lista_valores\u001B[49m\u001B[43m(\u001B[49m\u001B[43mlista_valores\u001B[49m\u001B[43m)\u001B[49m\n\u001B[1;32m    466\u001B[0m     cod \u001B[38;5;241m=\u001B[39m lista_valores[\u001B[38;5;241m0\u001B[39m]\n\u001B[1;32m    467\u001B[0m     n_columnas \u001B[38;5;241m=\u001B[39m \u001B[38;5;241m1\u001B[39m\n",
      "File \u001B[0;32m~/Documents/urosario/SEGUNDO SEMESTRE/Logica para CS/ProyectoFInal/Logica.py:461\u001B[0m, in \u001B[0;36mDescriptor.check_lista_valores\u001B[0;34m(self, lista_valores)\u001B[0m\n\u001B[1;32m    459\u001B[0m \u001B[38;5;28;01mdef\u001B[39;00m \u001B[38;5;21mcheck_lista_valores\u001B[39m(\u001B[38;5;28mself\u001B[39m,lista_valores) :\n\u001B[1;32m    460\u001B[0m     \u001B[38;5;28;01mfor\u001B[39;00m i, v \u001B[38;5;129;01min\u001B[39;00m \u001B[38;5;28menumerate\u001B[39m(lista_valores) :\n\u001B[0;32m--> 461\u001B[0m         \u001B[38;5;28;01massert\u001B[39;00m(\u001B[43mv\u001B[49m\u001B[43m \u001B[49m\u001B[38;5;241;43m>\u001B[39;49m\u001B[38;5;241;43m=\u001B[39;49m\u001B[43m \u001B[49m\u001B[38;5;241;43m0\u001B[39;49m), \u001B[38;5;124m\"\u001B[39m\u001B[38;5;124mValores deben ser no negativos\u001B[39m\u001B[38;5;124m\"\u001B[39m\n\u001B[1;32m    462\u001B[0m         \u001B[38;5;28;01massert\u001B[39;00m(v \u001B[38;5;241m<\u001B[39m \u001B[38;5;28mself\u001B[39m\u001B[38;5;241m.\u001B[39margs_lista[i]), \u001B[38;5;124mf\u001B[39m\u001B[38;5;124m\"\u001B[39m\u001B[38;5;124mValor debe ser menor o igual a \u001B[39m\u001B[38;5;132;01m{\u001B[39;00m\u001B[38;5;28mself\u001B[39m\u001B[38;5;241m.\u001B[39margs_lista[i]\u001B[38;5;132;01m}\u001B[39;00m\u001B[38;5;124m\"\u001B[39m\n",
      "\u001B[0;31mTypeError\u001B[0m: '>=' not supported between instances of 'str' and 'int'"
     ]
    }
   ],
   "source": [
    "#Creación del puente 4 en todos los turnos posibles\n",
    "atomoB = []\n",
    "b = []\n",
    "for turno in turnillo:\n",
    "    atomoB.append((4, turnillo[turno], 0)) #Crea una lista de tuplas con todos los turnos en B\n",
    "\n",
    "for i in atomoB:\n",
    "    atomos_deB = caminos.P(i)\n",
    "    for atomo in atomos_deB:\n",
    "        a = caminos.escribir(atomo)\n",
    "        b.append(a)\n",
    "#print(b)\n",
    "\n",
    "atomoC = []\n",
    "c = []\n",
    "for turno in turnillo:\n",
    "    atomoC.append((4, turnillo[turno], 1)) #Crea una lista de tuplas con todos los turnos en B\n",
    "\n",
    "for i in atomoC:\n",
    "    atomos_deC = caminos.P(i)\n",
    "    for atomo in atomos_deC:\n",
    "        n = caminos.escribir(atomo)\n",
    "        c.append(n)\n",
    "#print(c)\n"
   ],
   "metadata": {
    "collapsed": false,
    "ExecuteTime": {
     "end_time": "2023-05-28T22:49:28.085758Z",
     "start_time": "2023-05-28T22:49:28.075260Z"
    }
   }
  },
  {
   "cell_type": "code",
   "execution_count": 76,
   "outputs": [
    {
     "name": "stdout",
     "output_type": "stream",
     "text": [
      "((El caminante, pasa por el puente [0] en el turno [0], hacia la dirección[0]OEl caminante, pasa por el puente [0] en el turno [1], hacia la dirección[0]OEl caminante, pasa por el puente [0] en el turno [2], hacia la dirección[0]OEl caminante, pasa por el puente [0] en el turno [3], hacia la dirección[0]OEl caminante, pasa por el puente [0] en el turno [4], hacia la dirección[0]OEl caminante, pasa por el puente [0] en el turno [0], hacia la dirección[0]OEl caminante, pasa por el puente [0] en el turno [1], hacia la dirección[0]OEl caminante, pasa por el puente [0] en el turno [2], hacia la dirección[0]OEl caminante, pasa por el puente [0] en el turno [3], hacia la dirección[0]OEl caminante, pasa por el puente [0] en el turno [4], hacia la dirección[0])Y(El caminante, pasa por el puente [1] en el turno [0], hacia la dirección[0]OEl caminante, pasa por el puente [1] en el turno [1], hacia la dirección[0]OEl caminante, pasa por el puente [1] en el turno [2], hacia la dirección[0]OEl caminante, pasa por el puente [1] en el turno [3], hacia la dirección[0]OEl caminante, pasa por el puente [1] en el turno [4], hacia la dirección[0]OEl caminante, pasa por el puente [1] en el turno [0], hacia la dirección[1]OEl caminante, pasa por el puente [1] en el turno [1], hacia la dirección[1]OEl caminante, pasa por el puente [1] en el turno [2], hacia la dirección[1]OEl caminante, pasa por el puente [1] en el turno [3], hacia la dirección[1]OEl caminante, pasa por el puente [1] en el turno [4], hacia la dirección[1])Y(El caminante, pasa por el puente [2] en el turno [0], hacia la dirección[0]OEl caminante, pasa por el puente [2] en el turno [1], hacia la dirección[0]OEl caminante, pasa por el puente [2] en el turno [2], hacia la dirección[0]OEl caminante, pasa por el puente [2] en el turno [3], hacia la dirección[0]OEl caminante, pasa por el puente [2] en el turno [4], hacia la dirección[0]OEl caminante, pasa por el puente [2] en el turno [0], hacia la dirección[1]OEl caminante, pasa por el puente [2] en el turno [1], hacia la dirección[1]OEl caminante, pasa por el puente [2] en el turno [2], hacia la dirección[1]OEl caminante, pasa por el puente [2] en el turno [3], hacia la dirección[1]OEl caminante, pasa por el puente [2] en el turno [4], hacia la dirección[1])Y(El caminante, pasa por el puente [3] en el turno [0], hacia la dirección[0]OEl caminante, pasa por el puente [3] en el turno [1], hacia la dirección[0]OEl caminante, pasa por el puente [3] en el turno [2], hacia la dirección[0]OEl caminante, pasa por el puente [3] en el turno [3], hacia la dirección[0]OEl caminante, pasa por el puente [3] en el turno [4], hacia la dirección[0]OEl caminante, pasa por el puente [3] en el turno [0], hacia la dirección[1]OEl caminante, pasa por el puente [3] en el turno [1], hacia la dirección[1]OEl caminante, pasa por el puente [3] en el turno [2], hacia la dirección[1]OEl caminante, pasa por el puente [3] en el turno [3], hacia la dirección[1]OEl caminante, pasa por el puente [3] en el turno [4], hacia la dirección[1])Y(El caminante, pasa por el puente [4] en el turno [0], hacia la dirección[0]OEl caminante, pasa por el puente [4] en el turno [1], hacia la dirección[0]OEl caminante, pasa por el puente [4] en el turno [2], hacia la dirección[0]OEl caminante, pasa por el puente [4] en el turno [3], hacia la dirección[0]OEl caminante, pasa por el puente [4] en el turno [4], hacia la dirección[0]OEl caminante, pasa por el puente [4] en el turno [0], hacia la dirección[1]OEl caminante, pasa por el puente [4] en el turno [1], hacia la dirección[1]OEl caminante, pasa por el puente [4] en el turno [2], hacia la dirección[1]OEl caminante, pasa por el puente [4] en el turno [3], hacia la dirección[1]OEl caminante, pasa por el puente [4] en el turno [4], hacia la dirección[1]))\n"
     ]
    }
   ],
   "source": [
    "regla1 = ''\n",
    "\n",
    "regla1 = \"(\" + \"(\" + p[0] + \"O\" + p[1]+ \"O\" +p[2] + \"O\" +p[3]+ \"O\" +p[4]+ \"O\" + q[0] + \"O\" + q[1]+ \"O\" + q[2]+ \"O\" + q[3]+ \"O\" + q[4]+ \")\" + \"Y\" + \"(\"+ r[0]+ \"O\"+ r[1]+ \"O\"+ r[2]+ \"O\" + r[3]+ \"O\" + r[4]+ \"O\" + s[0]+ \"O\" + s[1] + \"O\" + s[2]+ \"O\" + s[3]+ \"O\" + s[4] + \")\"+ \"Y\" \"(\"+ t[0] +\"O\" + t[1]+ \"O\" + t[2]+ \"O\" + t[3]+ \"O\" + t[4]+ \"O\"+ u[0]+ \"O\" +u[1] +  \"O\" +u[2] +  \"O\" +u[3] +  \"O\" +u[4] + \")\" + \"Y\" + \"(\"+ x[0]+ \"O\"+ x[1] + \"O\"+ x[2] + \"O\"+ x[3]+ \"O\"+ x[4] + \"O\"+ y[0]+ \"O\"+ y[1] + \"O\"+ y[2]+ \"O\"+ y[3]+ \"O\"+ y[4]+ \")\" + \"Y\" + \"(\" + b[0] + \"O\" + b[1] + \"O\"+ b[2] + \"O\" + b[3] + \"O\" + b[4] + \"O\"+ c[0] + \"O\" + c[1]+  \"O\" + c[2]+  \"O\" + c[3]+  \"O\" + c[4]+ \")\"+\")\"\n",
    "print(regla1)"
   ],
   "metadata": {
    "collapsed": false,
    "ExecuteTime": {
     "end_time": "2023-05-28T21:43:15.834785Z",
     "start_time": "2023-05-28T21:43:15.813169Z"
    }
   }
  },
  {
   "cell_type": "code",
   "execution_count": 19,
   "outputs": [
    {
     "name": "stdout",
     "output_type": "stream",
     "text": [
      "((El caminante, pasa por el puente [0] en el turno [0], hacia la dirección[0]Y((((El caminante, pasa por el puente [0] no en el turno [1], hacia la dirección[0]Y)El caminante, pasa por el puente [0] no en el turno [2], hacia la dirección[0]Y)El caminante, pasa por el puente [0] no en el turno [3], hacia la dirección[0]Y)El caminante, pasa por el puente [0] no en el turno [4], hacia la dirección[0]Y))O(El caminante, pasa por el puente [3] en el turno [0], hacia la dirección[1]Y((((YEl caminante, pasa por el puente [3] no en el turno [1], hacia la dirección[1])YEl caminante, pasa por el puente [3] no en el turno [2], hacia la dirección[1])YEl caminante, pasa por el puente [3] no en el turno [3], hacia la dirección[1])YEl caminante, pasa por el puente [3] no en el turno [4], hacia la dirección[1]))O(El caminante, pasa por el puente [4] en el turno [0], hacia la dirección[0]Y((((YEl caminante, pasa por el puente [4] no en el turno [1], hacia la dirección[0])YEl caminante, pasa por el puente [4] no en el turno [2], hacia la dirección[0])YEl caminante, pasa por el puente [4] no en el turno [3], hacia la dirección[0])YEl caminante, pasa por el puente [4] no en el turno [4], hacia la dirección[0])))Y(įOĮOİ)\n"
     ]
    }
   ],
   "source": [
    "#Creación de la regla 3. (Se debe iniciar por (p o y o b) y terminar en (u o s o y)\n",
    "caminos_iniciales = [debe_comenzar_en_p, debe_comenzar_en_y, debe_comenzar_en_b]\n",
    "termina_enU = caminos.P([2, 4, 1])\n",
    "termina_enS = caminos.P([1,4,1])\n",
    "termina_enY = caminos.P([3,4,1])\n",
    "caminos_finales = [termina_enU, termina_enS, termina_enY]\n",
    "\n",
    "regla3 = ''\n",
    "\n",
    "regla3 = \"(\" + debe_comenzar_en_p + \"O\" + debe_comenzar_en_y + \"O\" + debe_comenzar_en_b + \")\" + \"Y\" + \"(\" + termina_enU + \"O\" + termina_enS + \"O\" + termina_enY + \")\"\n",
    "\n",
    "#print(regla3)\n"
   ],
   "metadata": {
    "collapsed": false,
    "ExecuteTime": {
     "end_time": "2023-05-28T20:00:18.789584Z",
     "start_time": "2023-05-28T20:00:18.764905Z"
    }
   }
  },
  {
   "cell_type": "markdown",
   "metadata": {},
   "source": [
    "Observe que la fórmula resultante es difícil de entender a simple vista, aunque un computador pueda trabajarla fácilmente. Para visualizarla de manera más comprensible y entender el significado del string generado por el código anterior, usaremos la función `visualizar_formula` que se encuentra en la librería `Logica`:"
   ]
  },
  {
   "cell_type": "code",
   "execution_count": 80,
   "metadata": {
    "ExecuteTime": {
     "end_time": "2023-05-28T22:46:08.713174Z",
     "start_time": "2023-05-28T22:46:08.683549Z"
    }
   },
   "outputs": [
    {
     "name": "stdout",
     "output_type": "stream",
     "text": [
      "((El caminante, pasa por el puente [3] en el turno [2], hacia la dirección[-7]El caminante, pasa por el puente [2] en el turno [0], hacia la dirección[-5]El caminante, pasa por el puente [1] en el turno [0], hacia la dirección[-8]El caminante, pasa por el puente [3] en el turno [3], hacia la dirección[-6]El caminante, pasa por el puente [1] en el turno [3], hacia la dirección[-6]El caminante, pasa por el puente [3] en el turno [0], hacia la dirección[-5]El caminante, pasa por el puente [4] en el turno [4], hacia la dirección[-6]El caminante, pasa por el puente [4] en el turno [0], hacia la dirección[-5]El caminante, pasa por el puente [1] en el turno [3], hacia la dirección[-6]El caminante, pasa por el puente [4] en el turno [0], hacia la dirección[-5]El caminante, pasa por el puente [0] en el turno [2], hacia la dirección[-5]El caminante, pasa por el puente [0] en el turno [4], hacia la dirección[-6]El caminante, pasa por el puente [3] en el turno [2], hacia la dirección[-8]El caminante, pasa por el puente [1] en el turno [0], hacia la dirección[-8]El caminante, pasa por el puente [1] en el turno [1], hacia la dirección[-5]El caminante, pasa por el puente [1] en el turno [3], hacia la dirección[-6]El caminante, pasa por el puente [4] en el turno [1], hacia la dirección[-5]El caminante, pasa por el puente [1] en el turno [3], hacia la dirección[-6]El caminante, pasa por el puente [1] en el turno [0], hacia la dirección[-8]El caminante, pasa por el puente [1] en el turno [1], hacia la dirección[-5]El caminante, pasa por el puente [0] en el turno [1], hacia la dirección[-5]El caminante, pasa por el puente [3] en el turno [1], hacia la dirección[-5]El caminante, pasa por el puente [1] en el turno [0], hacia la dirección[-8]El caminante, pasa por el puente [0] en el turno [4], hacia la dirección[-6]El caminante, pasa por el puente [2] en el turno [0], hacia la dirección[-5]El caminante, pasa por el puente [1] en el turno [0], hacia la dirección[-8]El caminante, pasa por el puente [1] en el turno [1], hacia la dirección[-5]El caminante, pasa por el puente [1] en el turno [2], hacia la dirección[-5]El caminante, pasa por el puente [0] en el turno [4], hacia la dirección[-6]El caminante, pasa por el puente [4] en el turno [0], hacia la dirección[-5]El caminante, pasa por el puente [0] en el turno [2], hacia la dirección[-5]El caminante, pasa por el puente [0] en el turno [4], hacia la dirección[-6]El caminante, pasa por el puente [1] en el turno [0], hacia la dirección[-8]El caminante, pasa por el puente [0] en el turno [2], hacia la dirección[-6]El caminante, pasa por el puente [2] en el turno [3], hacia la dirección[-8]El caminante, pasa por el puente [2] en el turno [2], hacia la dirección[-6]El caminante, pasa por el puente [1] en el turno [0], hacia la dirección[-8]El caminante, pasa por el puente [0] en el turno [4], hacia la dirección[-6]El caminante, pasa por el puente [4] en el turno [0], hacia la dirección[-5]El caminante, pasa por el puente [1] en el turno [0], hacia la dirección[-8]El caminante, pasa por el puente [0] en el turno [4], hacia la dirección[-6]El caminante, pasa por el puente [2] en el turno [0], hacia la dirección[-5]El caminante, pasa por el puente [1] en el turno [0], hacia la dirección[-8]El caminante, pasa por el puente [0] en el turno [2], hacia la dirección[-5]El caminante, pasa por el puente [1] en el turno [2], hacia la dirección[-5]El caminante, pasa por el puente [3] en el turno [1], hacia la dirección[-5]El caminante, pasa por el puente [4] en el turno [0], hacia la dirección[-5]El caminante, pasa por el puente [0] en el turno [1], hacia la dirección[-5]El caminante, pasa por el puente [1] en el turno [0], hacia la dirección[-8]El caminante, pasa por el puente [0] en el turno [2], hacia la dirección[-6]El caminante, pasa por el puente [2] en el turno [3], hacia la dirección[-8]El caminante, pasa por el puente [2] en el turno [2], hacia la dirección[-6]El caminante, pasa por el puente [3] en el turno [2], hacia la dirección[-8]El caminante, pasa por el puente [1] en el turno [0], hacia la dirección[-8]El caminante, pasa por el puente [3] en el turno [4], hacia la dirección[-6]El caminante, pasa por el puente [1] en el turno [3], hacia la dirección[-6]El caminante, pasa por el puente [3] en el turno [3], hacia la dirección[-6]El caminante, pasa por el puente [4] en el turno [4], hacia la dirección[-6]El caminante, pasa por el puente [1] en el turno [3], hacia la dirección[-6]El caminante, pasa por el puente [1] en el turno [0], hacia la dirección[-8]El caminante, pasa por el puente [2] en el turno [0], hacia la dirección[-5]El caminante, pasa por el puente [1] en el turno [3], hacia la dirección[-6]El caminante, pasa por el puente [1] en el turno [0], hacia la dirección[-8]El caminante, pasa por el puente [4] en el turno [3], hacia la dirección[-6]El caminante, pasa por el puente [4] en el turno [4], hacia la dirección[-6]El caminante, pasa por el puente [3] en el turno [1], hacia la dirección[-5]El caminante, pasa por el puente [0] en el turno [4], hacia la dirección[-6]El caminante, pasa por el puente [3] en el turno [3], hacia la dirección[-6]El caminante, pasa por el puente [3] en el turno [3], hacia la dirección[-6]El caminante, pasa por el puente [4] en el turno [4], hacia la dirección[-6]El caminante, pasa por el puente [2] en el turno [2], hacia la dirección[0]El caminante, pasa por el puente [4] en el turno [0], hacia la dirección[-5]El caminante, pasa por el puente [0] en el turno [2], hacia la dirección[-6]El caminante, pasa por el puente [2] en el turno [3], hacia la dirección[-8]El caminante, pasa por el puente [2] en el turno [2], hacia la dirección[-6] Y ((((El caminante, pasa por el puente [3] en el turno [2], hacia la dirección[-7]El caminante, pasa por el puente [2] en el turno [0], hacia la dirección[-5]El caminante, pasa por el puente [1] en el turno [0], hacia la dirección[-8]El caminante, pasa por el puente [3] en el turno [3], hacia la dirección[-6]El caminante, pasa por el puente [1] en el turno [3], hacia la dirección[-6]El caminante, pasa por el puente [3] en el turno [0], hacia la dirección[-5]El caminante, pasa por el puente [4] en el turno [4], hacia la dirección[-6]El caminante, pasa por el puente [4] en el turno [0], hacia la dirección[-5]El caminante, pasa por el puente [1] en el turno [3], hacia la dirección[-6]El caminante, pasa por el puente [4] en el turno [0], hacia la dirección[-5]El caminante, pasa por el puente [0] en el turno [2], hacia la dirección[-5]El caminante, pasa por el puente [0] en el turno [4], hacia la dirección[-6]El caminante, pasa por el puente [3] en el turno [2], hacia la dirección[-8]El caminante, pasa por el puente [1] en el turno [0], hacia la dirección[-8]El caminante, pasa por el puente [1] en el turno [1], hacia la dirección[-5]El caminante, pasa por el puente [1] en el turno [3], hacia la dirección[-6]El caminante, pasa por el puente [4] en el turno [1], hacia la dirección[-5]El caminante, pasa por el puente [1] en el turno [3], hacia la dirección[-6]El caminante, pasa por el puente [1] en el turno [0], hacia la dirección[-8]El caminante, pasa por el puente [1] en el turno [1], hacia la dirección[-5]El caminante, pasa por el puente [0] en el turno [1], hacia la dirección[-5]El caminante, pasa por el puente [3] en el turno [1], hacia la dirección[-5]El caminante, pasa por el puente [1] en el turno [0], hacia la dirección[-8]El caminante, pasa por el puente [0] en el turno [4], hacia la dirección[-6]El caminante, pasa por el puente [2] en el turno [0], hacia la dirección[-5]El caminante, pasa por el puente [1] en el turno [0], hacia la dirección[-8]El caminante, pasa por el puente [1] en el turno [1], hacia la dirección[-5]El caminante, pasa por el puente [1] en el turno [2], hacia la dirección[-5]El caminante, pasa por el puente [0] en el turno [4], hacia la dirección[-6]El caminante, pasa por el puente [4] en el turno [0], hacia la dirección[-5]El caminante, pasa por el puente [0] en el turno [2], hacia la dirección[-5]El caminante, pasa por el puente [0] en el turno [4], hacia la dirección[-6]El caminante, pasa por el puente [1] en el turno [0], hacia la dirección[-8]El caminante, pasa por el puente [0] en el turno [2], hacia la dirección[-6]El caminante, pasa por el puente [2] en el turno [3], hacia la dirección[-8]El caminante, pasa por el puente [2] en el turno [2], hacia la dirección[-6]El caminante, pasa por el puente [1] en el turno [0], hacia la dirección[-8]El caminante, pasa por el puente [4] en el turno [0], hacia la dirección[-5]El caminante, pasa por el puente [0] en el turno [1], hacia la dirección[-5]El caminante, pasa por el puente [1] en el turno [0], hacia la dirección[-8]El caminante, pasa por el puente [0] en el turno [4], hacia la dirección[-6]El caminante, pasa por el puente [4] en el turno [0], hacia la dirección[-5]El caminante, pasa por el puente [1] en el turno [0], hacia la dirección[-8]El caminante, pasa por el puente [0] en el turno [4], hacia la dirección[-6]El caminante, pasa por el puente [2] en el turno [0], hacia la dirección[-5]El caminante, pasa por el puente [1] en el turno [0], hacia la dirección[-8]El caminante, pasa por el puente [0] en el turno [2], hacia la dirección[-5]El caminante, pasa por el puente [1] en el turno [2], hacia la dirección[-5]El caminante, pasa por el puente [3] en el turno [1], hacia la dirección[-5]El caminante, pasa por el puente [4] en el turno [0], hacia la dirección[-5]El caminante, pasa por el puente [0] en el turno [1], hacia la dirección[-5]El caminante, pasa por el puente [1] en el turno [0], hacia la dirección[-8]El caminante, pasa por el puente [0] en el turno [2], hacia la dirección[-6]El caminante, pasa por el puente [3] en el turno [3], hacia la dirección[-8]El caminante, pasa por el puente [2] en el turno [2], hacia la dirección[-6]El caminante, pasa por el puente [3] en el turno [2], hacia la dirección[-8]El caminante, pasa por el puente [1] en el turno [0], hacia la dirección[-8]El caminante, pasa por el puente [3] en el turno [4], hacia la dirección[-6]El caminante, pasa por el puente [1] en el turno [3], hacia la dirección[-6]El caminante, pasa por el puente [3] en el turno [3], hacia la dirección[-6]El caminante, pasa por el puente [4] en el turno [4], hacia la dirección[-6]El caminante, pasa por el puente [1] en el turno [3], hacia la dirección[-6]El caminante, pasa por el puente [1] en el turno [0], hacia la dirección[-8]El caminante, pasa por el puente [2] en el turno [0], hacia la dirección[-5]El caminante, pasa por el puente [1] en el turno [3], hacia la dirección[-6]El caminante, pasa por el puente [1] en el turno [0], hacia la dirección[-8]El caminante, pasa por el puente [4] en el turno [3], hacia la dirección[-6]El caminante, pasa por el puente [4] en el turno [4], hacia la dirección[-6]El caminante, pasa por el puente [3] en el turno [1], hacia la dirección[-5]El caminante, pasa por el puente [0] en el turno [4], hacia la dirección[-6]El caminante, pasa por el puente [3] en el turno [3], hacia la dirección[-6]El caminante, pasa por el puente [3] en el turno [3], hacia la dirección[-6]El caminante, pasa por el puente [4] en el turno [4], hacia la dirección[-6]El caminante, pasa por el puente [2] en el turno [2], hacia la dirección[0]El caminante, pasa por el puente [4] en el turno [0], hacia la dirección[-5]El caminante, pasa por el puente [0] en el turno [2], hacia la dirección[-6]El caminante, pasa por el puente [2] en el turno [3], hacia la dirección[-8]El caminante, pasa por el puente [2] en el turno [2], hacia la dirección[-6] Y )El caminante, pasa por el puente [3] en el turno [2], hacia la dirección[-7]El caminante, pasa por el puente [2] en el turno [0], hacia la dirección[-5]El caminante, pasa por el puente [1] en el turno [0], hacia la dirección[-8]El caminante, pasa por el puente [3] en el turno [3], hacia la dirección[-6]El caminante, pasa por el puente [1] en el turno [3], hacia la dirección[-6]El caminante, pasa por el puente [3] en el turno [0], hacia la dirección[-5]El caminante, pasa por el puente [4] en el turno [4], hacia la dirección[-6]El caminante, pasa por el puente [4] en el turno [0], hacia la dirección[-5]El caminante, pasa por el puente [1] en el turno [3], hacia la dirección[-6]El caminante, pasa por el puente [4] en el turno [0], hacia la dirección[-5]El caminante, pasa por el puente [0] en el turno [2], hacia la dirección[-5]El caminante, pasa por el puente [0] en el turno [4], hacia la dirección[-6]El caminante, pasa por el puente [3] en el turno [2], hacia la dirección[-8]El caminante, pasa por el puente [1] en el turno [0], hacia la dirección[-8]El caminante, pasa por el puente [1] en el turno [1], hacia la dirección[-5]El caminante, pasa por el puente [1] en el turno [3], hacia la dirección[-6]El caminante, pasa por el puente [4] en el turno [1], hacia la dirección[-5]El caminante, pasa por el puente [1] en el turno [3], hacia la dirección[-6]El caminante, pasa por el puente [1] en el turno [0], hacia la dirección[-8]El caminante, pasa por el puente [1] en el turno [1], hacia la dirección[-5]El caminante, pasa por el puente [0] en el turno [1], hacia la dirección[-5]El caminante, pasa por el puente [3] en el turno [1], hacia la dirección[-5]El caminante, pasa por el puente [1] en el turno [0], hacia la dirección[-8]El caminante, pasa por el puente [0] en el turno [4], hacia la dirección[-6]El caminante, pasa por el puente [2] en el turno [0], hacia la dirección[-5]El caminante, pasa por el puente [1] en el turno [0], hacia la dirección[-8]El caminante, pasa por el puente [1] en el turno [1], hacia la dirección[-5]El caminante, pasa por el puente [1] en el turno [2], hacia la dirección[-5]El caminante, pasa por el puente [0] en el turno [4], hacia la dirección[-6]El caminante, pasa por el puente [4] en el turno [0], hacia la dirección[-5]El caminante, pasa por el puente [0] en el turno [2], hacia la dirección[-5]El caminante, pasa por el puente [0] en el turno [4], hacia la dirección[-6]El caminante, pasa por el puente [1] en el turno [0], hacia la dirección[-8]El caminante, pasa por el puente [0] en el turno [2], hacia la dirección[-6]El caminante, pasa por el puente [2] en el turno [3], hacia la dirección[-8]El caminante, pasa por el puente [2] en el turno [2], hacia la dirección[-6]El caminante, pasa por el puente [1] en el turno [0], hacia la dirección[-8]El caminante, pasa por el puente [4] en el turno [0], hacia la dirección[-5]El caminante, pasa por el puente [0] en el turno [1], hacia la dirección[-5]El caminante, pasa por el puente [1] en el turno [0], hacia la dirección[-8]El caminante, pasa por el puente [0] en el turno [4], hacia la dirección[-6]El caminante, pasa por el puente [4] en el turno [0], hacia la dirección[-5]El caminante, pasa por el puente [1] en el turno [0], hacia la dirección[-8]El caminante, pasa por el puente [0] en el turno [4], hacia la dirección[-6]El caminante, pasa por el puente [2] en el turno [0], hacia la dirección[-5]El caminante, pasa por el puente [1] en el turno [0], hacia la dirección[-8]El caminante, pasa por el puente [0] en el turno [2], hacia la dirección[-5]El caminante, pasa por el puente [1] en el turno [2], hacia la dirección[-5]El caminante, pasa por el puente [3] en el turno [1], hacia la dirección[-5]El caminante, pasa por el puente [4] en el turno [0], hacia la dirección[-5]El caminante, pasa por el puente [0] en el turno [1], hacia la dirección[-5]El caminante, pasa por el puente [1] en el turno [0], hacia la dirección[-8]El caminante, pasa por el puente [0] en el turno [2], hacia la dirección[-6]El caminante, pasa por el puente [4] en el turno [3], hacia la dirección[-8]El caminante, pasa por el puente [2] en el turno [2], hacia la dirección[-6]El caminante, pasa por el puente [3] en el turno [2], hacia la dirección[-8]El caminante, pasa por el puente [1] en el turno [0], hacia la dirección[-8]El caminante, pasa por el puente [3] en el turno [4], hacia la dirección[-6]El caminante, pasa por el puente [1] en el turno [3], hacia la dirección[-6]El caminante, pasa por el puente [3] en el turno [3], hacia la dirección[-6]El caminante, pasa por el puente [4] en el turno [4], hacia la dirección[-6]El caminante, pasa por el puente [1] en el turno [3], hacia la dirección[-6]El caminante, pasa por el puente [1] en el turno [0], hacia la dirección[-8]El caminante, pasa por el puente [2] en el turno [0], hacia la dirección[-5]El caminante, pasa por el puente [1] en el turno [3], hacia la dirección[-6]El caminante, pasa por el puente [1] en el turno [0], hacia la dirección[-8]El caminante, pasa por el puente [4] en el turno [3], hacia la dirección[-6]El caminante, pasa por el puente [4] en el turno [4], hacia la dirección[-6]El caminante, pasa por el puente [3] en el turno [1], hacia la dirección[-5]El caminante, pasa por el puente [0] en el turno [4], hacia la dirección[-6]El caminante, pasa por el puente [3] en el turno [3], hacia la dirección[-6]El caminante, pasa por el puente [3] en el turno [3], hacia la dirección[-6]El caminante, pasa por el puente [4] en el turno [4], hacia la dirección[-6]El caminante, pasa por el puente [2] en el turno [2], hacia la dirección[0]El caminante, pasa por el puente [4] en el turno [0], hacia la dirección[-5]El caminante, pasa por el puente [0] en el turno [2], hacia la dirección[-6]El caminante, pasa por el puente [2] en el turno [3], hacia la dirección[-8]El caminante, pasa por el puente [2] en el turno [2], hacia la dirección[-6] Y )El caminante, pasa por el puente [3] en el turno [2], hacia la dirección[-7]El caminante, pasa por el puente [2] en el turno [0], hacia la dirección[-5]El caminante, pasa por el puente [1] en el turno [0], hacia la dirección[-8]El caminante, pasa por el puente [3] en el turno [3], hacia la dirección[-6]El caminante, pasa por el puente [1] en el turno [3], hacia la dirección[-6]El caminante, pasa por el puente [3] en el turno [0], hacia la dirección[-5]El caminante, pasa por el puente [4] en el turno [4], hacia la dirección[-6]El caminante, pasa por el puente [4] en el turno [0], hacia la dirección[-5]El caminante, pasa por el puente [1] en el turno [3], hacia la dirección[-6]El caminante, pasa por el puente [4] en el turno [0], hacia la dirección[-5]El caminante, pasa por el puente [0] en el turno [2], hacia la dirección[-5]El caminante, pasa por el puente [0] en el turno [4], hacia la dirección[-6]El caminante, pasa por el puente [3] en el turno [2], hacia la dirección[-8]El caminante, pasa por el puente [1] en el turno [0], hacia la dirección[-8]El caminante, pasa por el puente [1] en el turno [1], hacia la dirección[-5]El caminante, pasa por el puente [1] en el turno [3], hacia la dirección[-6]El caminante, pasa por el puente [4] en el turno [1], hacia la dirección[-5]El caminante, pasa por el puente [1] en el turno [3], hacia la dirección[-6]El caminante, pasa por el puente [1] en el turno [0], hacia la dirección[-8]El caminante, pasa por el puente [1] en el turno [1], hacia la dirección[-5]El caminante, pasa por el puente [0] en el turno [1], hacia la dirección[-5]El caminante, pasa por el puente [3] en el turno [1], hacia la dirección[-5]El caminante, pasa por el puente [1] en el turno [0], hacia la dirección[-8]El caminante, pasa por el puente [0] en el turno [4], hacia la dirección[-6]El caminante, pasa por el puente [2] en el turno [0], hacia la dirección[-5]El caminante, pasa por el puente [1] en el turno [0], hacia la dirección[-8]El caminante, pasa por el puente [1] en el turno [1], hacia la dirección[-5]El caminante, pasa por el puente [1] en el turno [2], hacia la dirección[-5]El caminante, pasa por el puente [0] en el turno [4], hacia la dirección[-6]El caminante, pasa por el puente [4] en el turno [0], hacia la dirección[-5]El caminante, pasa por el puente [0] en el turno [2], hacia la dirección[-5]El caminante, pasa por el puente [0] en el turno [4], hacia la dirección[-6]El caminante, pasa por el puente [1] en el turno [0], hacia la dirección[-8]El caminante, pasa por el puente [0] en el turno [2], hacia la dirección[-6]El caminante, pasa por el puente [2] en el turno [3], hacia la dirección[-8]El caminante, pasa por el puente [2] en el turno [2], hacia la dirección[-6]El caminante, pasa por el puente [1] en el turno [0], hacia la dirección[-8]El caminante, pasa por el puente [4] en el turno [0], hacia la dirección[-5]El caminante, pasa por el puente [0] en el turno [1], hacia la dirección[-5]El caminante, pasa por el puente [1] en el turno [0], hacia la dirección[-8]El caminante, pasa por el puente [0] en el turno [4], hacia la dirección[-6]El caminante, pasa por el puente [4] en el turno [0], hacia la dirección[-5]El caminante, pasa por el puente [1] en el turno [0], hacia la dirección[-8]El caminante, pasa por el puente [0] en el turno [4], hacia la dirección[-6]El caminante, pasa por el puente [2] en el turno [0], hacia la dirección[-5]El caminante, pasa por el puente [1] en el turno [0], hacia la dirección[-8]El caminante, pasa por el puente [0] en el turno [2], hacia la dirección[-5]El caminante, pasa por el puente [1] en el turno [2], hacia la dirección[-5]El caminante, pasa por el puente [3] en el turno [1], hacia la dirección[-5]El caminante, pasa por el puente [4] en el turno [0], hacia la dirección[-5]El caminante, pasa por el puente [0] en el turno [1], hacia la dirección[-5]El caminante, pasa por el puente [1] en el turno [0], hacia la dirección[-8]El caminante, pasa por el puente [0] en el turno [2], hacia la dirección[-6]El caminante, pasa por el puente [0] en el turno [4], hacia la dirección[-8]El caminante, pasa por el puente [2] en el turno [2], hacia la dirección[-6]El caminante, pasa por el puente [3] en el turno [2], hacia la dirección[-8]El caminante, pasa por el puente [1] en el turno [0], hacia la dirección[-8]El caminante, pasa por el puente [3] en el turno [4], hacia la dirección[-6]El caminante, pasa por el puente [1] en el turno [3], hacia la dirección[-6]El caminante, pasa por el puente [3] en el turno [3], hacia la dirección[-6]El caminante, pasa por el puente [4] en el turno [4], hacia la dirección[-6]El caminante, pasa por el puente [1] en el turno [3], hacia la dirección[-6]El caminante, pasa por el puente [1] en el turno [0], hacia la dirección[-8]El caminante, pasa por el puente [2] en el turno [0], hacia la dirección[-5]El caminante, pasa por el puente [1] en el turno [3], hacia la dirección[-6]El caminante, pasa por el puente [1] en el turno [0], hacia la dirección[-8]El caminante, pasa por el puente [4] en el turno [3], hacia la dirección[-6]El caminante, pasa por el puente [4] en el turno [4], hacia la dirección[-6]El caminante, pasa por el puente [3] en el turno [1], hacia la dirección[-5]El caminante, pasa por el puente [0] en el turno [4], hacia la dirección[-6]El caminante, pasa por el puente [3] en el turno [3], hacia la dirección[-6]El caminante, pasa por el puente [3] en el turno [3], hacia la dirección[-6]El caminante, pasa por el puente [4] en el turno [4], hacia la dirección[-6]El caminante, pasa por el puente [2] en el turno [2], hacia la dirección[0]El caminante, pasa por el puente [4] en el turno [0], hacia la dirección[-5]El caminante, pasa por el puente [0] en el turno [2], hacia la dirección[-6]El caminante, pasa por el puente [2] en el turno [3], hacia la dirección[-8]El caminante, pasa por el puente [2] en el turno [2], hacia la dirección[-6] Y )El caminante, pasa por el puente [3] en el turno [2], hacia la dirección[-7]El caminante, pasa por el puente [2] en el turno [0], hacia la dirección[-5]El caminante, pasa por el puente [1] en el turno [0], hacia la dirección[-8]El caminante, pasa por el puente [3] en el turno [3], hacia la dirección[-6]El caminante, pasa por el puente [1] en el turno [3], hacia la dirección[-6]El caminante, pasa por el puente [3] en el turno [0], hacia la dirección[-5]El caminante, pasa por el puente [4] en el turno [4], hacia la dirección[-6]El caminante, pasa por el puente [4] en el turno [0], hacia la dirección[-5]El caminante, pasa por el puente [1] en el turno [3], hacia la dirección[-6]El caminante, pasa por el puente [4] en el turno [0], hacia la dirección[-5]El caminante, pasa por el puente [0] en el turno [2], hacia la dirección[-5]El caminante, pasa por el puente [0] en el turno [4], hacia la dirección[-6]El caminante, pasa por el puente [3] en el turno [2], hacia la dirección[-8]El caminante, pasa por el puente [1] en el turno [0], hacia la dirección[-8]El caminante, pasa por el puente [1] en el turno [1], hacia la dirección[-5]El caminante, pasa por el puente [1] en el turno [3], hacia la dirección[-6]El caminante, pasa por el puente [4] en el turno [1], hacia la dirección[-5]El caminante, pasa por el puente [1] en el turno [3], hacia la dirección[-6]El caminante, pasa por el puente [1] en el turno [0], hacia la dirección[-8]El caminante, pasa por el puente [1] en el turno [1], hacia la dirección[-5]El caminante, pasa por el puente [0] en el turno [1], hacia la dirección[-5]El caminante, pasa por el puente [3] en el turno [1], hacia la dirección[-5]El caminante, pasa por el puente [1] en el turno [0], hacia la dirección[-8]El caminante, pasa por el puente [0] en el turno [4], hacia la dirección[-6]El caminante, pasa por el puente [2] en el turno [0], hacia la dirección[-5]El caminante, pasa por el puente [1] en el turno [0], hacia la dirección[-8]El caminante, pasa por el puente [1] en el turno [1], hacia la dirección[-5]El caminante, pasa por el puente [1] en el turno [2], hacia la dirección[-5]El caminante, pasa por el puente [0] en el turno [4], hacia la dirección[-6]El caminante, pasa por el puente [4] en el turno [0], hacia la dirección[-5]El caminante, pasa por el puente [0] en el turno [2], hacia la dirección[-5]El caminante, pasa por el puente [0] en el turno [4], hacia la dirección[-6]El caminante, pasa por el puente [1] en el turno [0], hacia la dirección[-8]El caminante, pasa por el puente [0] en el turno [2], hacia la dirección[-6]El caminante, pasa por el puente [2] en el turno [3], hacia la dirección[-8]El caminante, pasa por el puente [2] en el turno [2], hacia la dirección[-6]El caminante, pasa por el puente [1] en el turno [0], hacia la dirección[-8]El caminante, pasa por el puente [4] en el turno [0], hacia la dirección[-5]El caminante, pasa por el puente [0] en el turno [1], hacia la dirección[-5]El caminante, pasa por el puente [1] en el turno [0], hacia la dirección[-8]El caminante, pasa por el puente [0] en el turno [4], hacia la dirección[-6]El caminante, pasa por el puente [4] en el turno [0], hacia la dirección[-5]El caminante, pasa por el puente [1] en el turno [0], hacia la dirección[-8]El caminante, pasa por el puente [0] en el turno [4], hacia la dirección[-6]El caminante, pasa por el puente [2] en el turno [0], hacia la dirección[-5]El caminante, pasa por el puente [1] en el turno [0], hacia la dirección[-8]El caminante, pasa por el puente [0] en el turno [2], hacia la dirección[-5]El caminante, pasa por el puente [1] en el turno [2], hacia la dirección[-5]El caminante, pasa por el puente [3] en el turno [1], hacia la dirección[-5]El caminante, pasa por el puente [4] en el turno [0], hacia la dirección[-5]El caminante, pasa por el puente [0] en el turno [1], hacia la dirección[-5]El caminante, pasa por el puente [1] en el turno [0], hacia la dirección[-8]El caminante, pasa por el puente [0] en el turno [2], hacia la dirección[-6]El caminante, pasa por el puente [1] en el turno [4], hacia la dirección[-8]El caminante, pasa por el puente [2] en el turno [2], hacia la dirección[-6]El caminante, pasa por el puente [3] en el turno [2], hacia la dirección[-8]El caminante, pasa por el puente [1] en el turno [0], hacia la dirección[-8]El caminante, pasa por el puente [3] en el turno [4], hacia la dirección[-6]El caminante, pasa por el puente [1] en el turno [3], hacia la dirección[-6]El caminante, pasa por el puente [3] en el turno [3], hacia la dirección[-6]El caminante, pasa por el puente [4] en el turno [4], hacia la dirección[-6]El caminante, pasa por el puente [1] en el turno [3], hacia la dirección[-6]El caminante, pasa por el puente [1] en el turno [0], hacia la dirección[-8]El caminante, pasa por el puente [2] en el turno [0], hacia la dirección[-5]El caminante, pasa por el puente [1] en el turno [3], hacia la dirección[-6]El caminante, pasa por el puente [1] en el turno [0], hacia la dirección[-8]El caminante, pasa por el puente [4] en el turno [3], hacia la dirección[-6]El caminante, pasa por el puente [4] en el turno [4], hacia la dirección[-6]El caminante, pasa por el puente [3] en el turno [1], hacia la dirección[-5]El caminante, pasa por el puente [0] en el turno [4], hacia la dirección[-6]El caminante, pasa por el puente [3] en el turno [3], hacia la dirección[-6]El caminante, pasa por el puente [3] en el turno [3], hacia la dirección[-6]El caminante, pasa por el puente [4] en el turno [4], hacia la dirección[-6]El caminante, pasa por el puente [2] en el turno [2], hacia la dirección[0]El caminante, pasa por el puente [4] en el turno [0], hacia la dirección[-5]El caminante, pasa por el puente [0] en el turno [2], hacia la dirección[-6]El caminante, pasa por el puente [2] en el turno [3], hacia la dirección[-8]El caminante, pasa por el puente [2] en el turno [2], hacia la dirección[-6] Y )) O (El caminante, pasa por el puente [3] en el turno [2], hacia la dirección[-7]El caminante, pasa por el puente [2] en el turno [0], hacia la dirección[-5]El caminante, pasa por el puente [1] en el turno [0], hacia la dirección[-8]El caminante, pasa por el puente [3] en el turno [3], hacia la dirección[-6]El caminante, pasa por el puente [1] en el turno [3], hacia la dirección[-6]El caminante, pasa por el puente [3] en el turno [0], hacia la dirección[-5]El caminante, pasa por el puente [4] en el turno [4], hacia la dirección[-6]El caminante, pasa por el puente [4] en el turno [0], hacia la dirección[-5]El caminante, pasa por el puente [1] en el turno [3], hacia la dirección[-6]El caminante, pasa por el puente [4] en el turno [0], hacia la dirección[-5]El caminante, pasa por el puente [0] en el turno [2], hacia la dirección[-5]El caminante, pasa por el puente [0] en el turno [4], hacia la dirección[-6]El caminante, pasa por el puente [3] en el turno [2], hacia la dirección[-8]El caminante, pasa por el puente [1] en el turno [0], hacia la dirección[-8]El caminante, pasa por el puente [1] en el turno [1], hacia la dirección[-5]El caminante, pasa por el puente [1] en el turno [3], hacia la dirección[-6]El caminante, pasa por el puente [4] en el turno [1], hacia la dirección[-5]El caminante, pasa por el puente [1] en el turno [3], hacia la dirección[-6]El caminante, pasa por el puente [1] en el turno [0], hacia la dirección[-8]El caminante, pasa por el puente [1] en el turno [1], hacia la dirección[-5]El caminante, pasa por el puente [0] en el turno [1], hacia la dirección[-5]El caminante, pasa por el puente [3] en el turno [1], hacia la dirección[-5]El caminante, pasa por el puente [1] en el turno [0], hacia la dirección[-8]El caminante, pasa por el puente [0] en el turno [4], hacia la dirección[-6]El caminante, pasa por el puente [2] en el turno [0], hacia la dirección[-5]El caminante, pasa por el puente [1] en el turno [0], hacia la dirección[-8]El caminante, pasa por el puente [1] en el turno [1], hacia la dirección[-5]El caminante, pasa por el puente [1] en el turno [2], hacia la dirección[-5]El caminante, pasa por el puente [0] en el turno [4], hacia la dirección[-6]El caminante, pasa por el puente [4] en el turno [0], hacia la dirección[-5]El caminante, pasa por el puente [0] en el turno [2], hacia la dirección[-5]El caminante, pasa por el puente [0] en el turno [4], hacia la dirección[-6]El caminante, pasa por el puente [1] en el turno [0], hacia la dirección[-8]El caminante, pasa por el puente [0] en el turno [2], hacia la dirección[-6]El caminante, pasa por el puente [0] en el turno [4], hacia la dirección[-8]El caminante, pasa por el puente [2] en el turno [2], hacia la dirección[-6]El caminante, pasa por el puente [1] en el turno [0], hacia la dirección[-8]El caminante, pasa por el puente [0] en el turno [4], hacia la dirección[-6]El caminante, pasa por el puente [4] en el turno [0], hacia la dirección[-5]El caminante, pasa por el puente [1] en el turno [0], hacia la dirección[-8]El caminante, pasa por el puente [0] en el turno [4], hacia la dirección[-6]El caminante, pasa por el puente [2] en el turno [0], hacia la dirección[-5]El caminante, pasa por el puente [1] en el turno [0], hacia la dirección[-8]El caminante, pasa por el puente [0] en el turno [2], hacia la dirección[-5]El caminante, pasa por el puente [1] en el turno [2], hacia la dirección[-5]El caminante, pasa por el puente [3] en el turno [1], hacia la dirección[-5]El caminante, pasa por el puente [4] en el turno [0], hacia la dirección[-5]El caminante, pasa por el puente [0] en el turno [1], hacia la dirección[-5]El caminante, pasa por el puente [1] en el turno [0], hacia la dirección[-8]El caminante, pasa por el puente [0] en el turno [2], hacia la dirección[-6]El caminante, pasa por el puente [2] en el turno [3], hacia la dirección[-8]El caminante, pasa por el puente [2] en el turno [2], hacia la dirección[-6]El caminante, pasa por el puente [3] en el turno [2], hacia la dirección[-8]El caminante, pasa por el puente [1] en el turno [0], hacia la dirección[-8]El caminante, pasa por el puente [3] en el turno [4], hacia la dirección[-6]El caminante, pasa por el puente [1] en el turno [3], hacia la dirección[-6]El caminante, pasa por el puente [3] en el turno [3], hacia la dirección[-6]El caminante, pasa por el puente [4] en el turno [4], hacia la dirección[-6]El caminante, pasa por el puente [1] en el turno [3], hacia la dirección[-6]El caminante, pasa por el puente [1] en el turno [0], hacia la dirección[-8]El caminante, pasa por el puente [2] en el turno [0], hacia la dirección[-5]El caminante, pasa por el puente [1] en el turno [3], hacia la dirección[-6]El caminante, pasa por el puente [1] en el turno [0], hacia la dirección[-8]El caminante, pasa por el puente [4] en el turno [3], hacia la dirección[-6]El caminante, pasa por el puente [4] en el turno [4], hacia la dirección[-6]El caminante, pasa por el puente [3] en el turno [1], hacia la dirección[-5]El caminante, pasa por el puente [0] en el turno [4], hacia la dirección[-6]El caminante, pasa por el puente [3] en el turno [3], hacia la dirección[-6]El caminante, pasa por el puente [3] en el turno [3], hacia la dirección[-6]El caminante, pasa por el puente [4] en el turno [4], hacia la dirección[-6]El caminante, pasa por el puente [2] en el turno [2], hacia la dirección[0]El caminante, pasa por el puente [4] en el turno [0], hacia la dirección[-5]El caminante, pasa por el puente [0] en el turno [2], hacia la dirección[-6]El caminante, pasa por el puente [3] en el turno [3], hacia la dirección[-8]El caminante, pasa por el puente [2] en el turno [2], hacia la dirección[-6] Y (((( Y El caminante, pasa por el puente [3] en el turno [2], hacia la dirección[-7]El caminante, pasa por el puente [2] en el turno [0], hacia la dirección[-5]El caminante, pasa por el puente [1] en el turno [0], hacia la dirección[-8]El caminante, pasa por el puente [3] en el turno [3], hacia la dirección[-6]El caminante, pasa por el puente [1] en el turno [3], hacia la dirección[-6]El caminante, pasa por el puente [3] en el turno [0], hacia la dirección[-5]El caminante, pasa por el puente [4] en el turno [4], hacia la dirección[-6]El caminante, pasa por el puente [4] en el turno [0], hacia la dirección[-5]El caminante, pasa por el puente [1] en el turno [3], hacia la dirección[-6]El caminante, pasa por el puente [4] en el turno [0], hacia la dirección[-5]El caminante, pasa por el puente [0] en el turno [2], hacia la dirección[-5]El caminante, pasa por el puente [0] en el turno [4], hacia la dirección[-6]El caminante, pasa por el puente [3] en el turno [2], hacia la dirección[-8]El caminante, pasa por el puente [1] en el turno [0], hacia la dirección[-8]El caminante, pasa por el puente [1] en el turno [1], hacia la dirección[-5]El caminante, pasa por el puente [1] en el turno [3], hacia la dirección[-6]El caminante, pasa por el puente [4] en el turno [1], hacia la dirección[-5]El caminante, pasa por el puente [1] en el turno [3], hacia la dirección[-6]El caminante, pasa por el puente [1] en el turno [0], hacia la dirección[-8]El caminante, pasa por el puente [1] en el turno [1], hacia la dirección[-5]El caminante, pasa por el puente [0] en el turno [1], hacia la dirección[-5]El caminante, pasa por el puente [3] en el turno [1], hacia la dirección[-5]El caminante, pasa por el puente [1] en el turno [0], hacia la dirección[-8]El caminante, pasa por el puente [0] en el turno [4], hacia la dirección[-6]El caminante, pasa por el puente [2] en el turno [0], hacia la dirección[-5]El caminante, pasa por el puente [1] en el turno [0], hacia la dirección[-8]El caminante, pasa por el puente [1] en el turno [1], hacia la dirección[-5]El caminante, pasa por el puente [1] en el turno [2], hacia la dirección[-5]El caminante, pasa por el puente [0] en el turno [4], hacia la dirección[-6]El caminante, pasa por el puente [4] en el turno [0], hacia la dirección[-5]El caminante, pasa por el puente [0] en el turno [2], hacia la dirección[-5]El caminante, pasa por el puente [0] en el turno [4], hacia la dirección[-6]El caminante, pasa por el puente [1] en el turno [0], hacia la dirección[-8]El caminante, pasa por el puente [0] en el turno [2], hacia la dirección[-6]El caminante, pasa por el puente [0] en el turno [4], hacia la dirección[-8]El caminante, pasa por el puente [2] en el turno [2], hacia la dirección[-6]El caminante, pasa por el puente [1] en el turno [0], hacia la dirección[-8]El caminante, pasa por el puente [4] en el turno [0], hacia la dirección[-5]El caminante, pasa por el puente [0] en el turno [1], hacia la dirección[-5]El caminante, pasa por el puente [1] en el turno [0], hacia la dirección[-8]El caminante, pasa por el puente [0] en el turno [4], hacia la dirección[-6]El caminante, pasa por el puente [4] en el turno [0], hacia la dirección[-5]El caminante, pasa por el puente [1] en el turno [0], hacia la dirección[-8]El caminante, pasa por el puente [0] en el turno [4], hacia la dirección[-6]El caminante, pasa por el puente [2] en el turno [0], hacia la dirección[-5]El caminante, pasa por el puente [1] en el turno [0], hacia la dirección[-8]El caminante, pasa por el puente [0] en el turno [2], hacia la dirección[-5]El caminante, pasa por el puente [1] en el turno [2], hacia la dirección[-5]El caminante, pasa por el puente [3] en el turno [1], hacia la dirección[-5]El caminante, pasa por el puente [4] en el turno [0], hacia la dirección[-5]El caminante, pasa por el puente [0] en el turno [1], hacia la dirección[-5]El caminante, pasa por el puente [1] en el turno [0], hacia la dirección[-8]El caminante, pasa por el puente [0] en el turno [2], hacia la dirección[-6]El caminante, pasa por el puente [3] en el turno [3], hacia la dirección[-8]El caminante, pasa por el puente [2] en el turno [2], hacia la dirección[-6]El caminante, pasa por el puente [3] en el turno [2], hacia la dirección[-8]El caminante, pasa por el puente [1] en el turno [0], hacia la dirección[-8]El caminante, pasa por el puente [3] en el turno [4], hacia la dirección[-6]El caminante, pasa por el puente [1] en el turno [3], hacia la dirección[-6]El caminante, pasa por el puente [3] en el turno [3], hacia la dirección[-6]El caminante, pasa por el puente [4] en el turno [4], hacia la dirección[-6]El caminante, pasa por el puente [1] en el turno [3], hacia la dirección[-6]El caminante, pasa por el puente [1] en el turno [0], hacia la dirección[-8]El caminante, pasa por el puente [2] en el turno [0], hacia la dirección[-5]El caminante, pasa por el puente [1] en el turno [3], hacia la dirección[-6]El caminante, pasa por el puente [1] en el turno [0], hacia la dirección[-8]El caminante, pasa por el puente [4] en el turno [3], hacia la dirección[-6]El caminante, pasa por el puente [4] en el turno [4], hacia la dirección[-6]El caminante, pasa por el puente [3] en el turno [1], hacia la dirección[-5]El caminante, pasa por el puente [0] en el turno [4], hacia la dirección[-6]El caminante, pasa por el puente [3] en el turno [3], hacia la dirección[-6]El caminante, pasa por el puente [3] en el turno [3], hacia la dirección[-6]El caminante, pasa por el puente [4] en el turno [4], hacia la dirección[-6]El caminante, pasa por el puente [2] en el turno [2], hacia la dirección[0]El caminante, pasa por el puente [4] en el turno [0], hacia la dirección[-5]El caminante, pasa por el puente [0] en el turno [2], hacia la dirección[-6]El caminante, pasa por el puente [3] en el turno [3], hacia la dirección[-8]El caminante, pasa por el puente [2] en el turno [2], hacia la dirección[-6]) Y El caminante, pasa por el puente [3] en el turno [2], hacia la dirección[-7]El caminante, pasa por el puente [2] en el turno [0], hacia la dirección[-5]El caminante, pasa por el puente [1] en el turno [0], hacia la dirección[-8]El caminante, pasa por el puente [3] en el turno [3], hacia la dirección[-6]El caminante, pasa por el puente [1] en el turno [3], hacia la dirección[-6]El caminante, pasa por el puente [3] en el turno [0], hacia la dirección[-5]El caminante, pasa por el puente [4] en el turno [4], hacia la dirección[-6]El caminante, pasa por el puente [4] en el turno [0], hacia la dirección[-5]El caminante, pasa por el puente [1] en el turno [3], hacia la dirección[-6]El caminante, pasa por el puente [4] en el turno [0], hacia la dirección[-5]El caminante, pasa por el puente [0] en el turno [2], hacia la dirección[-5]El caminante, pasa por el puente [0] en el turno [4], hacia la dirección[-6]El caminante, pasa por el puente [3] en el turno [2], hacia la dirección[-8]El caminante, pasa por el puente [1] en el turno [0], hacia la dirección[-8]El caminante, pasa por el puente [1] en el turno [1], hacia la dirección[-5]El caminante, pasa por el puente [1] en el turno [3], hacia la dirección[-6]El caminante, pasa por el puente [4] en el turno [1], hacia la dirección[-5]El caminante, pasa por el puente [1] en el turno [3], hacia la dirección[-6]El caminante, pasa por el puente [1] en el turno [0], hacia la dirección[-8]El caminante, pasa por el puente [1] en el turno [1], hacia la dirección[-5]El caminante, pasa por el puente [0] en el turno [1], hacia la dirección[-5]El caminante, pasa por el puente [3] en el turno [1], hacia la dirección[-5]El caminante, pasa por el puente [1] en el turno [0], hacia la dirección[-8]El caminante, pasa por el puente [0] en el turno [4], hacia la dirección[-6]El caminante, pasa por el puente [2] en el turno [0], hacia la dirección[-5]El caminante, pasa por el puente [1] en el turno [0], hacia la dirección[-8]El caminante, pasa por el puente [1] en el turno [1], hacia la dirección[-5]El caminante, pasa por el puente [1] en el turno [2], hacia la dirección[-5]El caminante, pasa por el puente [0] en el turno [4], hacia la dirección[-6]El caminante, pasa por el puente [4] en el turno [0], hacia la dirección[-5]El caminante, pasa por el puente [0] en el turno [2], hacia la dirección[-5]El caminante, pasa por el puente [0] en el turno [4], hacia la dirección[-6]El caminante, pasa por el puente [1] en el turno [0], hacia la dirección[-8]El caminante, pasa por el puente [0] en el turno [2], hacia la dirección[-6]El caminante, pasa por el puente [0] en el turno [4], hacia la dirección[-8]El caminante, pasa por el puente [2] en el turno [2], hacia la dirección[-6]El caminante, pasa por el puente [1] en el turno [0], hacia la dirección[-8]El caminante, pasa por el puente [4] en el turno [0], hacia la dirección[-5]El caminante, pasa por el puente [0] en el turno [1], hacia la dirección[-5]El caminante, pasa por el puente [1] en el turno [0], hacia la dirección[-8]El caminante, pasa por el puente [0] en el turno [4], hacia la dirección[-6]El caminante, pasa por el puente [4] en el turno [0], hacia la dirección[-5]El caminante, pasa por el puente [1] en el turno [0], hacia la dirección[-8]El caminante, pasa por el puente [0] en el turno [4], hacia la dirección[-6]El caminante, pasa por el puente [2] en el turno [0], hacia la dirección[-5]El caminante, pasa por el puente [1] en el turno [0], hacia la dirección[-8]El caminante, pasa por el puente [0] en el turno [2], hacia la dirección[-5]El caminante, pasa por el puente [1] en el turno [2], hacia la dirección[-5]El caminante, pasa por el puente [3] en el turno [1], hacia la dirección[-5]El caminante, pasa por el puente [4] en el turno [0], hacia la dirección[-5]El caminante, pasa por el puente [0] en el turno [1], hacia la dirección[-5]El caminante, pasa por el puente [1] en el turno [0], hacia la dirección[-8]El caminante, pasa por el puente [0] en el turno [2], hacia la dirección[-6]El caminante, pasa por el puente [4] en el turno [3], hacia la dirección[-8]El caminante, pasa por el puente [2] en el turno [2], hacia la dirección[-6]El caminante, pasa por el puente [3] en el turno [2], hacia la dirección[-8]El caminante, pasa por el puente [1] en el turno [0], hacia la dirección[-8]El caminante, pasa por el puente [3] en el turno [4], hacia la dirección[-6]El caminante, pasa por el puente [1] en el turno [3], hacia la dirección[-6]El caminante, pasa por el puente [3] en el turno [3], hacia la dirección[-6]El caminante, pasa por el puente [4] en el turno [4], hacia la dirección[-6]El caminante, pasa por el puente [1] en el turno [3], hacia la dirección[-6]El caminante, pasa por el puente [1] en el turno [0], hacia la dirección[-8]El caminante, pasa por el puente [2] en el turno [0], hacia la dirección[-5]El caminante, pasa por el puente [1] en el turno [3], hacia la dirección[-6]El caminante, pasa por el puente [1] en el turno [0], hacia la dirección[-8]El caminante, pasa por el puente [4] en el turno [3], hacia la dirección[-6]El caminante, pasa por el puente [4] en el turno [4], hacia la dirección[-6]El caminante, pasa por el puente [3] en el turno [1], hacia la dirección[-5]El caminante, pasa por el puente [0] en el turno [4], hacia la dirección[-6]El caminante, pasa por el puente [3] en el turno [3], hacia la dirección[-6]El caminante, pasa por el puente [3] en el turno [3], hacia la dirección[-6]El caminante, pasa por el puente [4] en el turno [4], hacia la dirección[-6]El caminante, pasa por el puente [2] en el turno [2], hacia la dirección[0]El caminante, pasa por el puente [4] en el turno [0], hacia la dirección[-5]El caminante, pasa por el puente [0] en el turno [2], hacia la dirección[-6]El caminante, pasa por el puente [3] en el turno [3], hacia la dirección[-8]El caminante, pasa por el puente [2] en el turno [2], hacia la dirección[-6]) Y El caminante, pasa por el puente [3] en el turno [2], hacia la dirección[-7]El caminante, pasa por el puente [2] en el turno [0], hacia la dirección[-5]El caminante, pasa por el puente [1] en el turno [0], hacia la dirección[-8]El caminante, pasa por el puente [3] en el turno [3], hacia la dirección[-6]El caminante, pasa por el puente [1] en el turno [3], hacia la dirección[-6]El caminante, pasa por el puente [3] en el turno [0], hacia la dirección[-5]El caminante, pasa por el puente [4] en el turno [4], hacia la dirección[-6]El caminante, pasa por el puente [4] en el turno [0], hacia la dirección[-5]El caminante, pasa por el puente [1] en el turno [3], hacia la dirección[-6]El caminante, pasa por el puente [4] en el turno [0], hacia la dirección[-5]El caminante, pasa por el puente [0] en el turno [2], hacia la dirección[-5]El caminante, pasa por el puente [0] en el turno [4], hacia la dirección[-6]El caminante, pasa por el puente [3] en el turno [2], hacia la dirección[-8]El caminante, pasa por el puente [1] en el turno [0], hacia la dirección[-8]El caminante, pasa por el puente [1] en el turno [1], hacia la dirección[-5]El caminante, pasa por el puente [1] en el turno [3], hacia la dirección[-6]El caminante, pasa por el puente [4] en el turno [1], hacia la dirección[-5]El caminante, pasa por el puente [1] en el turno [3], hacia la dirección[-6]El caminante, pasa por el puente [1] en el turno [0], hacia la dirección[-8]El caminante, pasa por el puente [1] en el turno [1], hacia la dirección[-5]El caminante, pasa por el puente [0] en el turno [1], hacia la dirección[-5]El caminante, pasa por el puente [3] en el turno [1], hacia la dirección[-5]El caminante, pasa por el puente [1] en el turno [0], hacia la dirección[-8]El caminante, pasa por el puente [0] en el turno [4], hacia la dirección[-6]El caminante, pasa por el puente [2] en el turno [0], hacia la dirección[-5]El caminante, pasa por el puente [1] en el turno [0], hacia la dirección[-8]El caminante, pasa por el puente [1] en el turno [1], hacia la dirección[-5]El caminante, pasa por el puente [1] en el turno [2], hacia la dirección[-5]El caminante, pasa por el puente [0] en el turno [4], hacia la dirección[-6]El caminante, pasa por el puente [4] en el turno [0], hacia la dirección[-5]El caminante, pasa por el puente [0] en el turno [2], hacia la dirección[-5]El caminante, pasa por el puente [0] en el turno [4], hacia la dirección[-6]El caminante, pasa por el puente [1] en el turno [0], hacia la dirección[-8]El caminante, pasa por el puente [0] en el turno [2], hacia la dirección[-6]El caminante, pasa por el puente [0] en el turno [4], hacia la dirección[-8]El caminante, pasa por el puente [2] en el turno [2], hacia la dirección[-6]El caminante, pasa por el puente [1] en el turno [0], hacia la dirección[-8]El caminante, pasa por el puente [4] en el turno [0], hacia la dirección[-5]El caminante, pasa por el puente [0] en el turno [1], hacia la dirección[-5]El caminante, pasa por el puente [1] en el turno [0], hacia la dirección[-8]El caminante, pasa por el puente [0] en el turno [4], hacia la dirección[-6]El caminante, pasa por el puente [4] en el turno [0], hacia la dirección[-5]El caminante, pasa por el puente [1] en el turno [0], hacia la dirección[-8]El caminante, pasa por el puente [0] en el turno [4], hacia la dirección[-6]El caminante, pasa por el puente [2] en el turno [0], hacia la dirección[-5]El caminante, pasa por el puente [1] en el turno [0], hacia la dirección[-8]El caminante, pasa por el puente [0] en el turno [2], hacia la dirección[-5]El caminante, pasa por el puente [1] en el turno [2], hacia la dirección[-5]El caminante, pasa por el puente [3] en el turno [1], hacia la dirección[-5]El caminante, pasa por el puente [4] en el turno [0], hacia la dirección[-5]El caminante, pasa por el puente [0] en el turno [1], hacia la dirección[-5]El caminante, pasa por el puente [1] en el turno [0], hacia la dirección[-8]El caminante, pasa por el puente [0] en el turno [2], hacia la dirección[-6]El caminante, pasa por el puente [0] en el turno [4], hacia la dirección[-8]El caminante, pasa por el puente [2] en el turno [2], hacia la dirección[-6]El caminante, pasa por el puente [3] en el turno [2], hacia la dirección[-8]El caminante, pasa por el puente [1] en el turno [0], hacia la dirección[-8]El caminante, pasa por el puente [3] en el turno [4], hacia la dirección[-6]El caminante, pasa por el puente [1] en el turno [3], hacia la dirección[-6]El caminante, pasa por el puente [3] en el turno [3], hacia la dirección[-6]El caminante, pasa por el puente [4] en el turno [4], hacia la dirección[-6]El caminante, pasa por el puente [1] en el turno [3], hacia la dirección[-6]El caminante, pasa por el puente [1] en el turno [0], hacia la dirección[-8]El caminante, pasa por el puente [2] en el turno [0], hacia la dirección[-5]El caminante, pasa por el puente [1] en el turno [3], hacia la dirección[-6]El caminante, pasa por el puente [1] en el turno [0], hacia la dirección[-8]El caminante, pasa por el puente [4] en el turno [3], hacia la dirección[-6]El caminante, pasa por el puente [4] en el turno [4], hacia la dirección[-6]El caminante, pasa por el puente [3] en el turno [1], hacia la dirección[-5]El caminante, pasa por el puente [0] en el turno [4], hacia la dirección[-6]El caminante, pasa por el puente [3] en el turno [3], hacia la dirección[-6]El caminante, pasa por el puente [3] en el turno [3], hacia la dirección[-6]El caminante, pasa por el puente [4] en el turno [4], hacia la dirección[-6]El caminante, pasa por el puente [2] en el turno [2], hacia la dirección[0]El caminante, pasa por el puente [4] en el turno [0], hacia la dirección[-5]El caminante, pasa por el puente [0] en el turno [2], hacia la dirección[-6]El caminante, pasa por el puente [3] en el turno [3], hacia la dirección[-8]El caminante, pasa por el puente [2] en el turno [2], hacia la dirección[-6]) Y El caminante, pasa por el puente [3] en el turno [2], hacia la dirección[-7]El caminante, pasa por el puente [2] en el turno [0], hacia la dirección[-5]El caminante, pasa por el puente [1] en el turno [0], hacia la dirección[-8]El caminante, pasa por el puente [3] en el turno [3], hacia la dirección[-6]El caminante, pasa por el puente [1] en el turno [3], hacia la dirección[-6]El caminante, pasa por el puente [3] en el turno [0], hacia la dirección[-5]El caminante, pasa por el puente [4] en el turno [4], hacia la dirección[-6]El caminante, pasa por el puente [4] en el turno [0], hacia la dirección[-5]El caminante, pasa por el puente [1] en el turno [3], hacia la dirección[-6]El caminante, pasa por el puente [4] en el turno [0], hacia la dirección[-5]El caminante, pasa por el puente [0] en el turno [2], hacia la dirección[-5]El caminante, pasa por el puente [0] en el turno [4], hacia la dirección[-6]El caminante, pasa por el puente [3] en el turno [2], hacia la dirección[-8]El caminante, pasa por el puente [1] en el turno [0], hacia la dirección[-8]El caminante, pasa por el puente [1] en el turno [1], hacia la dirección[-5]El caminante, pasa por el puente [1] en el turno [3], hacia la dirección[-6]El caminante, pasa por el puente [4] en el turno [1], hacia la dirección[-5]El caminante, pasa por el puente [1] en el turno [3], hacia la dirección[-6]El caminante, pasa por el puente [1] en el turno [0], hacia la dirección[-8]El caminante, pasa por el puente [1] en el turno [1], hacia la dirección[-5]El caminante, pasa por el puente [0] en el turno [1], hacia la dirección[-5]El caminante, pasa por el puente [3] en el turno [1], hacia la dirección[-5]El caminante, pasa por el puente [1] en el turno [0], hacia la dirección[-8]El caminante, pasa por el puente [0] en el turno [4], hacia la dirección[-6]El caminante, pasa por el puente [2] en el turno [0], hacia la dirección[-5]El caminante, pasa por el puente [1] en el turno [0], hacia la dirección[-8]El caminante, pasa por el puente [1] en el turno [1], hacia la dirección[-5]El caminante, pasa por el puente [1] en el turno [2], hacia la dirección[-5]El caminante, pasa por el puente [0] en el turno [4], hacia la dirección[-6]El caminante, pasa por el puente [4] en el turno [0], hacia la dirección[-5]El caminante, pasa por el puente [0] en el turno [2], hacia la dirección[-5]El caminante, pasa por el puente [0] en el turno [4], hacia la dirección[-6]El caminante, pasa por el puente [1] en el turno [0], hacia la dirección[-8]El caminante, pasa por el puente [0] en el turno [2], hacia la dirección[-6]El caminante, pasa por el puente [0] en el turno [4], hacia la dirección[-8]El caminante, pasa por el puente [2] en el turno [2], hacia la dirección[-6]El caminante, pasa por el puente [1] en el turno [0], hacia la dirección[-8]El caminante, pasa por el puente [4] en el turno [0], hacia la dirección[-5]El caminante, pasa por el puente [0] en el turno [1], hacia la dirección[-5]El caminante, pasa por el puente [1] en el turno [0], hacia la dirección[-8]El caminante, pasa por el puente [0] en el turno [4], hacia la dirección[-6]El caminante, pasa por el puente [4] en el turno [0], hacia la dirección[-5]El caminante, pasa por el puente [1] en el turno [0], hacia la dirección[-8]El caminante, pasa por el puente [0] en el turno [4], hacia la dirección[-6]El caminante, pasa por el puente [2] en el turno [0], hacia la dirección[-5]El caminante, pasa por el puente [1] en el turno [0], hacia la dirección[-8]El caminante, pasa por el puente [0] en el turno [2], hacia la dirección[-5]El caminante, pasa por el puente [1] en el turno [2], hacia la dirección[-5]El caminante, pasa por el puente [3] en el turno [1], hacia la dirección[-5]El caminante, pasa por el puente [4] en el turno [0], hacia la dirección[-5]El caminante, pasa por el puente [0] en el turno [1], hacia la dirección[-5]El caminante, pasa por el puente [1] en el turno [0], hacia la dirección[-8]El caminante, pasa por el puente [0] en el turno [2], hacia la dirección[-6]El caminante, pasa por el puente [1] en el turno [4], hacia la dirección[-8]El caminante, pasa por el puente [2] en el turno [2], hacia la dirección[-6]El caminante, pasa por el puente [3] en el turno [2], hacia la dirección[-8]El caminante, pasa por el puente [1] en el turno [0], hacia la dirección[-8]El caminante, pasa por el puente [3] en el turno [4], hacia la dirección[-6]El caminante, pasa por el puente [1] en el turno [3], hacia la dirección[-6]El caminante, pasa por el puente [3] en el turno [3], hacia la dirección[-6]El caminante, pasa por el puente [4] en el turno [4], hacia la dirección[-6]El caminante, pasa por el puente [1] en el turno [3], hacia la dirección[-6]El caminante, pasa por el puente [1] en el turno [0], hacia la dirección[-8]El caminante, pasa por el puente [2] en el turno [0], hacia la dirección[-5]El caminante, pasa por el puente [1] en el turno [3], hacia la dirección[-6]El caminante, pasa por el puente [1] en el turno [0], hacia la dirección[-8]El caminante, pasa por el puente [4] en el turno [3], hacia la dirección[-6]El caminante, pasa por el puente [4] en el turno [4], hacia la dirección[-6]El caminante, pasa por el puente [3] en el turno [1], hacia la dirección[-5]El caminante, pasa por el puente [0] en el turno [4], hacia la dirección[-6]El caminante, pasa por el puente [3] en el turno [3], hacia la dirección[-6]El caminante, pasa por el puente [3] en el turno [3], hacia la dirección[-6]El caminante, pasa por el puente [4] en el turno [4], hacia la dirección[-6]El caminante, pasa por el puente [2] en el turno [2], hacia la dirección[0]El caminante, pasa por el puente [4] en el turno [0], hacia la dirección[-5]El caminante, pasa por el puente [0] en el turno [2], hacia la dirección[-6]El caminante, pasa por el puente [3] en el turno [3], hacia la dirección[-8]El caminante, pasa por el puente [2] en el turno [2], hacia la dirección[-6])) O (El caminante, pasa por el puente [3] en el turno [2], hacia la dirección[-7]El caminante, pasa por el puente [2] en el turno [0], hacia la dirección[-5]El caminante, pasa por el puente [1] en el turno [0], hacia la dirección[-8]El caminante, pasa por el puente [3] en el turno [3], hacia la dirección[-6]El caminante, pasa por el puente [1] en el turno [3], hacia la dirección[-6]El caminante, pasa por el puente [3] en el turno [0], hacia la dirección[-5]El caminante, pasa por el puente [4] en el turno [4], hacia la dirección[-6]El caminante, pasa por el puente [4] en el turno [0], hacia la dirección[-5]El caminante, pasa por el puente [1] en el turno [3], hacia la dirección[-6]El caminante, pasa por el puente [4] en el turno [0], hacia la dirección[-5]El caminante, pasa por el puente [0] en el turno [2], hacia la dirección[-5]El caminante, pasa por el puente [0] en el turno [4], hacia la dirección[-6]El caminante, pasa por el puente [3] en el turno [2], hacia la dirección[-8]El caminante, pasa por el puente [1] en el turno [0], hacia la dirección[-8]El caminante, pasa por el puente [1] en el turno [1], hacia la dirección[-5]El caminante, pasa por el puente [1] en el turno [3], hacia la dirección[-6]El caminante, pasa por el puente [4] en el turno [1], hacia la dirección[-5]El caminante, pasa por el puente [1] en el turno [3], hacia la dirección[-6]El caminante, pasa por el puente [1] en el turno [0], hacia la dirección[-8]El caminante, pasa por el puente [1] en el turno [1], hacia la dirección[-5]El caminante, pasa por el puente [0] en el turno [1], hacia la dirección[-5]El caminante, pasa por el puente [3] en el turno [1], hacia la dirección[-5]El caminante, pasa por el puente [1] en el turno [0], hacia la dirección[-8]El caminante, pasa por el puente [0] en el turno [4], hacia la dirección[-6]El caminante, pasa por el puente [2] en el turno [0], hacia la dirección[-5]El caminante, pasa por el puente [1] en el turno [0], hacia la dirección[-8]El caminante, pasa por el puente [1] en el turno [1], hacia la dirección[-5]El caminante, pasa por el puente [1] en el turno [2], hacia la dirección[-5]El caminante, pasa por el puente [0] en el turno [4], hacia la dirección[-6]El caminante, pasa por el puente [4] en el turno [0], hacia la dirección[-5]El caminante, pasa por el puente [0] en el turno [2], hacia la dirección[-5]El caminante, pasa por el puente [0] en el turno [4], hacia la dirección[-6]El caminante, pasa por el puente [1] en el turno [0], hacia la dirección[-8]El caminante, pasa por el puente [0] en el turno [2], hacia la dirección[-6]El caminante, pasa por el puente [1] en el turno [4], hacia la dirección[-8]El caminante, pasa por el puente [2] en el turno [2], hacia la dirección[-6]El caminante, pasa por el puente [1] en el turno [0], hacia la dirección[-8]El caminante, pasa por el puente [0] en el turno [4], hacia la dirección[-6]El caminante, pasa por el puente [4] en el turno [0], hacia la dirección[-5]El caminante, pasa por el puente [1] en el turno [0], hacia la dirección[-8]El caminante, pasa por el puente [0] en el turno [4], hacia la dirección[-6]El caminante, pasa por el puente [2] en el turno [0], hacia la dirección[-5]El caminante, pasa por el puente [1] en el turno [0], hacia la dirección[-8]El caminante, pasa por el puente [0] en el turno [2], hacia la dirección[-5]El caminante, pasa por el puente [1] en el turno [2], hacia la dirección[-5]El caminante, pasa por el puente [3] en el turno [1], hacia la dirección[-5]El caminante, pasa por el puente [4] en el turno [0], hacia la dirección[-5]El caminante, pasa por el puente [0] en el turno [1], hacia la dirección[-5]El caminante, pasa por el puente [1] en el turno [0], hacia la dirección[-8]El caminante, pasa por el puente [0] en el turno [2], hacia la dirección[-6]El caminante, pasa por el puente [2] en el turno [3], hacia la dirección[-8]El caminante, pasa por el puente [2] en el turno [2], hacia la dirección[-6]El caminante, pasa por el puente [3] en el turno [2], hacia la dirección[-8]El caminante, pasa por el puente [1] en el turno [0], hacia la dirección[-8]El caminante, pasa por el puente [3] en el turno [4], hacia la dirección[-6]El caminante, pasa por el puente [1] en el turno [3], hacia la dirección[-6]El caminante, pasa por el puente [3] en el turno [3], hacia la dirección[-6]El caminante, pasa por el puente [4] en el turno [4], hacia la dirección[-6]El caminante, pasa por el puente [1] en el turno [3], hacia la dirección[-6]El caminante, pasa por el puente [1] en el turno [0], hacia la dirección[-8]El caminante, pasa por el puente [2] en el turno [0], hacia la dirección[-5]El caminante, pasa por el puente [1] en el turno [3], hacia la dirección[-6]El caminante, pasa por el puente [1] en el turno [0], hacia la dirección[-8]El caminante, pasa por el puente [4] en el turno [3], hacia la dirección[-6]El caminante, pasa por el puente [4] en el turno [4], hacia la dirección[-6]El caminante, pasa por el puente [3] en el turno [1], hacia la dirección[-5]El caminante, pasa por el puente [0] en el turno [4], hacia la dirección[-6]El caminante, pasa por el puente [3] en el turno [3], hacia la dirección[-6]El caminante, pasa por el puente [3] en el turno [3], hacia la dirección[-6]El caminante, pasa por el puente [4] en el turno [4], hacia la dirección[-6]El caminante, pasa por el puente [2] en el turno [2], hacia la dirección[0]El caminante, pasa por el puente [4] en el turno [0], hacia la dirección[-5]El caminante, pasa por el puente [0] en el turno [2], hacia la dirección[-6]El caminante, pasa por el puente [2] en el turno [3], hacia la dirección[-8]El caminante, pasa por el puente [2] en el turno [2], hacia la dirección[-6] Y (((( Y El caminante, pasa por el puente [3] en el turno [2], hacia la dirección[-7]El caminante, pasa por el puente [2] en el turno [0], hacia la dirección[-5]El caminante, pasa por el puente [1] en el turno [0], hacia la dirección[-8]El caminante, pasa por el puente [3] en el turno [3], hacia la dirección[-6]El caminante, pasa por el puente [1] en el turno [3], hacia la dirección[-6]El caminante, pasa por el puente [3] en el turno [0], hacia la dirección[-5]El caminante, pasa por el puente [4] en el turno [4], hacia la dirección[-6]El caminante, pasa por el puente [4] en el turno [0], hacia la dirección[-5]El caminante, pasa por el puente [1] en el turno [3], hacia la dirección[-6]El caminante, pasa por el puente [4] en el turno [0], hacia la dirección[-5]El caminante, pasa por el puente [0] en el turno [2], hacia la dirección[-5]El caminante, pasa por el puente [0] en el turno [4], hacia la dirección[-6]El caminante, pasa por el puente [3] en el turno [2], hacia la dirección[-8]El caminante, pasa por el puente [1] en el turno [0], hacia la dirección[-8]El caminante, pasa por el puente [1] en el turno [1], hacia la dirección[-5]El caminante, pasa por el puente [1] en el turno [3], hacia la dirección[-6]El caminante, pasa por el puente [4] en el turno [1], hacia la dirección[-5]El caminante, pasa por el puente [1] en el turno [3], hacia la dirección[-6]El caminante, pasa por el puente [1] en el turno [0], hacia la dirección[-8]El caminante, pasa por el puente [1] en el turno [1], hacia la dirección[-5]El caminante, pasa por el puente [0] en el turno [1], hacia la dirección[-5]El caminante, pasa por el puente [3] en el turno [1], hacia la dirección[-5]El caminante, pasa por el puente [1] en el turno [0], hacia la dirección[-8]El caminante, pasa por el puente [0] en el turno [4], hacia la dirección[-6]El caminante, pasa por el puente [2] en el turno [0], hacia la dirección[-5]El caminante, pasa por el puente [1] en el turno [0], hacia la dirección[-8]El caminante, pasa por el puente [1] en el turno [1], hacia la dirección[-5]El caminante, pasa por el puente [1] en el turno [2], hacia la dirección[-5]El caminante, pasa por el puente [0] en el turno [4], hacia la dirección[-6]El caminante, pasa por el puente [4] en el turno [0], hacia la dirección[-5]El caminante, pasa por el puente [0] en el turno [2], hacia la dirección[-5]El caminante, pasa por el puente [0] en el turno [4], hacia la dirección[-6]El caminante, pasa por el puente [1] en el turno [0], hacia la dirección[-8]El caminante, pasa por el puente [0] en el turno [2], hacia la dirección[-6]El caminante, pasa por el puente [1] en el turno [4], hacia la dirección[-8]El caminante, pasa por el puente [2] en el turno [2], hacia la dirección[-6]El caminante, pasa por el puente [1] en el turno [0], hacia la dirección[-8]El caminante, pasa por el puente [4] en el turno [0], hacia la dirección[-5]El caminante, pasa por el puente [0] en el turno [1], hacia la dirección[-5]El caminante, pasa por el puente [1] en el turno [0], hacia la dirección[-8]El caminante, pasa por el puente [0] en el turno [4], hacia la dirección[-6]El caminante, pasa por el puente [4] en el turno [0], hacia la dirección[-5]El caminante, pasa por el puente [1] en el turno [0], hacia la dirección[-8]El caminante, pasa por el puente [0] en el turno [4], hacia la dirección[-6]El caminante, pasa por el puente [2] en el turno [0], hacia la dirección[-5]El caminante, pasa por el puente [1] en el turno [0], hacia la dirección[-8]El caminante, pasa por el puente [0] en el turno [2], hacia la dirección[-5]El caminante, pasa por el puente [1] en el turno [2], hacia la dirección[-5]El caminante, pasa por el puente [3] en el turno [1], hacia la dirección[-5]El caminante, pasa por el puente [4] en el turno [0], hacia la dirección[-5]El caminante, pasa por el puente [0] en el turno [1], hacia la dirección[-5]El caminante, pasa por el puente [1] en el turno [0], hacia la dirección[-8]El caminante, pasa por el puente [0] en el turno [2], hacia la dirección[-6]El caminante, pasa por el puente [3] en el turno [3], hacia la dirección[-8]El caminante, pasa por el puente [2] en el turno [2], hacia la dirección[-6]El caminante, pasa por el puente [3] en el turno [2], hacia la dirección[-8]El caminante, pasa por el puente [1] en el turno [0], hacia la dirección[-8]El caminante, pasa por el puente [3] en el turno [4], hacia la dirección[-6]El caminante, pasa por el puente [1] en el turno [3], hacia la dirección[-6]El caminante, pasa por el puente [3] en el turno [3], hacia la dirección[-6]El caminante, pasa por el puente [4] en el turno [4], hacia la dirección[-6]El caminante, pasa por el puente [1] en el turno [3], hacia la dirección[-6]El caminante, pasa por el puente [1] en el turno [0], hacia la dirección[-8]El caminante, pasa por el puente [2] en el turno [0], hacia la dirección[-5]El caminante, pasa por el puente [1] en el turno [3], hacia la dirección[-6]El caminante, pasa por el puente [1] en el turno [0], hacia la dirección[-8]El caminante, pasa por el puente [4] en el turno [3], hacia la dirección[-6]El caminante, pasa por el puente [4] en el turno [4], hacia la dirección[-6]El caminante, pasa por el puente [3] en el turno [1], hacia la dirección[-5]El caminante, pasa por el puente [0] en el turno [4], hacia la dirección[-6]El caminante, pasa por el puente [3] en el turno [3], hacia la dirección[-6]El caminante, pasa por el puente [3] en el turno [3], hacia la dirección[-6]El caminante, pasa por el puente [4] en el turno [4], hacia la dirección[-6]El caminante, pasa por el puente [2] en el turno [2], hacia la dirección[0]El caminante, pasa por el puente [4] en el turno [0], hacia la dirección[-5]El caminante, pasa por el puente [0] en el turno [2], hacia la dirección[-6]El caminante, pasa por el puente [2] en el turno [3], hacia la dirección[-8]El caminante, pasa por el puente [2] en el turno [2], hacia la dirección[-6]) Y El caminante, pasa por el puente [3] en el turno [2], hacia la dirección[-7]El caminante, pasa por el puente [2] en el turno [0], hacia la dirección[-5]El caminante, pasa por el puente [1] en el turno [0], hacia la dirección[-8]El caminante, pasa por el puente [3] en el turno [3], hacia la dirección[-6]El caminante, pasa por el puente [1] en el turno [3], hacia la dirección[-6]El caminante, pasa por el puente [3] en el turno [0], hacia la dirección[-5]El caminante, pasa por el puente [4] en el turno [4], hacia la dirección[-6]El caminante, pasa por el puente [4] en el turno [0], hacia la dirección[-5]El caminante, pasa por el puente [1] en el turno [3], hacia la dirección[-6]El caminante, pasa por el puente [4] en el turno [0], hacia la dirección[-5]El caminante, pasa por el puente [0] en el turno [2], hacia la dirección[-5]El caminante, pasa por el puente [0] en el turno [4], hacia la dirección[-6]El caminante, pasa por el puente [3] en el turno [2], hacia la dirección[-8]El caminante, pasa por el puente [1] en el turno [0], hacia la dirección[-8]El caminante, pasa por el puente [1] en el turno [1], hacia la dirección[-5]El caminante, pasa por el puente [1] en el turno [3], hacia la dirección[-6]El caminante, pasa por el puente [4] en el turno [1], hacia la dirección[-5]El caminante, pasa por el puente [1] en el turno [3], hacia la dirección[-6]El caminante, pasa por el puente [1] en el turno [0], hacia la dirección[-8]El caminante, pasa por el puente [1] en el turno [1], hacia la dirección[-5]El caminante, pasa por el puente [0] en el turno [1], hacia la dirección[-5]El caminante, pasa por el puente [3] en el turno [1], hacia la dirección[-5]El caminante, pasa por el puente [1] en el turno [0], hacia la dirección[-8]El caminante, pasa por el puente [0] en el turno [4], hacia la dirección[-6]El caminante, pasa por el puente [2] en el turno [0], hacia la dirección[-5]El caminante, pasa por el puente [1] en el turno [0], hacia la dirección[-8]El caminante, pasa por el puente [1] en el turno [1], hacia la dirección[-5]El caminante, pasa por el puente [1] en el turno [2], hacia la dirección[-5]El caminante, pasa por el puente [0] en el turno [4], hacia la dirección[-6]El caminante, pasa por el puente [4] en el turno [0], hacia la dirección[-5]El caminante, pasa por el puente [0] en el turno [2], hacia la dirección[-5]El caminante, pasa por el puente [0] en el turno [4], hacia la dirección[-6]El caminante, pasa por el puente [1] en el turno [0], hacia la dirección[-8]El caminante, pasa por el puente [0] en el turno [2], hacia la dirección[-6]El caminante, pasa por el puente [1] en el turno [4], hacia la dirección[-8]El caminante, pasa por el puente [2] en el turno [2], hacia la dirección[-6]El caminante, pasa por el puente [1] en el turno [0], hacia la dirección[-8]El caminante, pasa por el puente [4] en el turno [0], hacia la dirección[-5]El caminante, pasa por el puente [0] en el turno [1], hacia la dirección[-5]El caminante, pasa por el puente [1] en el turno [0], hacia la dirección[-8]El caminante, pasa por el puente [0] en el turno [4], hacia la dirección[-6]El caminante, pasa por el puente [4] en el turno [0], hacia la dirección[-5]El caminante, pasa por el puente [1] en el turno [0], hacia la dirección[-8]El caminante, pasa por el puente [0] en el turno [4], hacia la dirección[-6]El caminante, pasa por el puente [2] en el turno [0], hacia la dirección[-5]El caminante, pasa por el puente [1] en el turno [0], hacia la dirección[-8]El caminante, pasa por el puente [0] en el turno [2], hacia la dirección[-5]El caminante, pasa por el puente [1] en el turno [2], hacia la dirección[-5]El caminante, pasa por el puente [3] en el turno [1], hacia la dirección[-5]El caminante, pasa por el puente [4] en el turno [0], hacia la dirección[-5]El caminante, pasa por el puente [0] en el turno [1], hacia la dirección[-5]El caminante, pasa por el puente [1] en el turno [0], hacia la dirección[-8]El caminante, pasa por el puente [0] en el turno [2], hacia la dirección[-6]El caminante, pasa por el puente [4] en el turno [3], hacia la dirección[-8]El caminante, pasa por el puente [2] en el turno [2], hacia la dirección[-6]El caminante, pasa por el puente [3] en el turno [2], hacia la dirección[-8]El caminante, pasa por el puente [1] en el turno [0], hacia la dirección[-8]El caminante, pasa por el puente [3] en el turno [4], hacia la dirección[-6]El caminante, pasa por el puente [1] en el turno [3], hacia la dirección[-6]El caminante, pasa por el puente [3] en el turno [3], hacia la dirección[-6]El caminante, pasa por el puente [4] en el turno [4], hacia la dirección[-6]El caminante, pasa por el puente [1] en el turno [3], hacia la dirección[-6]El caminante, pasa por el puente [1] en el turno [0], hacia la dirección[-8]El caminante, pasa por el puente [2] en el turno [0], hacia la dirección[-5]El caminante, pasa por el puente [1] en el turno [3], hacia la dirección[-6]El caminante, pasa por el puente [1] en el turno [0], hacia la dirección[-8]El caminante, pasa por el puente [4] en el turno [3], hacia la dirección[-6]El caminante, pasa por el puente [4] en el turno [4], hacia la dirección[-6]El caminante, pasa por el puente [3] en el turno [1], hacia la dirección[-5]El caminante, pasa por el puente [0] en el turno [4], hacia la dirección[-6]El caminante, pasa por el puente [3] en el turno [3], hacia la dirección[-6]El caminante, pasa por el puente [3] en el turno [3], hacia la dirección[-6]El caminante, pasa por el puente [4] en el turno [4], hacia la dirección[-6]El caminante, pasa por el puente [2] en el turno [2], hacia la dirección[0]El caminante, pasa por el puente [4] en el turno [0], hacia la dirección[-5]El caminante, pasa por el puente [0] en el turno [2], hacia la dirección[-6]El caminante, pasa por el puente [2] en el turno [3], hacia la dirección[-8]El caminante, pasa por el puente [2] en el turno [2], hacia la dirección[-6]) Y El caminante, pasa por el puente [3] en el turno [2], hacia la dirección[-7]El caminante, pasa por el puente [2] en el turno [0], hacia la dirección[-5]El caminante, pasa por el puente [1] en el turno [0], hacia la dirección[-8]El caminante, pasa por el puente [3] en el turno [3], hacia la dirección[-6]El caminante, pasa por el puente [1] en el turno [3], hacia la dirección[-6]El caminante, pasa por el puente [3] en el turno [0], hacia la dirección[-5]El caminante, pasa por el puente [4] en el turno [4], hacia la dirección[-6]El caminante, pasa por el puente [4] en el turno [0], hacia la dirección[-5]El caminante, pasa por el puente [1] en el turno [3], hacia la dirección[-6]El caminante, pasa por el puente [4] en el turno [0], hacia la dirección[-5]El caminante, pasa por el puente [0] en el turno [2], hacia la dirección[-5]El caminante, pasa por el puente [0] en el turno [4], hacia la dirección[-6]El caminante, pasa por el puente [3] en el turno [2], hacia la dirección[-8]El caminante, pasa por el puente [1] en el turno [0], hacia la dirección[-8]El caminante, pasa por el puente [1] en el turno [1], hacia la dirección[-5]El caminante, pasa por el puente [1] en el turno [3], hacia la dirección[-6]El caminante, pasa por el puente [4] en el turno [1], hacia la dirección[-5]El caminante, pasa por el puente [1] en el turno [3], hacia la dirección[-6]El caminante, pasa por el puente [1] en el turno [0], hacia la dirección[-8]El caminante, pasa por el puente [1] en el turno [1], hacia la dirección[-5]El caminante, pasa por el puente [0] en el turno [1], hacia la dirección[-5]El caminante, pasa por el puente [3] en el turno [1], hacia la dirección[-5]El caminante, pasa por el puente [1] en el turno [0], hacia la dirección[-8]El caminante, pasa por el puente [0] en el turno [4], hacia la dirección[-6]El caminante, pasa por el puente [2] en el turno [0], hacia la dirección[-5]El caminante, pasa por el puente [1] en el turno [0], hacia la dirección[-8]El caminante, pasa por el puente [1] en el turno [1], hacia la dirección[-5]El caminante, pasa por el puente [1] en el turno [2], hacia la dirección[-5]El caminante, pasa por el puente [0] en el turno [4], hacia la dirección[-6]El caminante, pasa por el puente [4] en el turno [0], hacia la dirección[-5]El caminante, pasa por el puente [0] en el turno [2], hacia la dirección[-5]El caminante, pasa por el puente [0] en el turno [4], hacia la dirección[-6]El caminante, pasa por el puente [1] en el turno [0], hacia la dirección[-8]El caminante, pasa por el puente [0] en el turno [2], hacia la dirección[-6]El caminante, pasa por el puente [1] en el turno [4], hacia la dirección[-8]El caminante, pasa por el puente [2] en el turno [2], hacia la dirección[-6]El caminante, pasa por el puente [1] en el turno [0], hacia la dirección[-8]El caminante, pasa por el puente [4] en el turno [0], hacia la dirección[-5]El caminante, pasa por el puente [0] en el turno [1], hacia la dirección[-5]El caminante, pasa por el puente [1] en el turno [0], hacia la dirección[-8]El caminante, pasa por el puente [0] en el turno [4], hacia la dirección[-6]El caminante, pasa por el puente [4] en el turno [0], hacia la dirección[-5]El caminante, pasa por el puente [1] en el turno [0], hacia la dirección[-8]El caminante, pasa por el puente [0] en el turno [4], hacia la dirección[-6]El caminante, pasa por el puente [2] en el turno [0], hacia la dirección[-5]El caminante, pasa por el puente [1] en el turno [0], hacia la dirección[-8]El caminante, pasa por el puente [0] en el turno [2], hacia la dirección[-5]El caminante, pasa por el puente [1] en el turno [2], hacia la dirección[-5]El caminante, pasa por el puente [3] en el turno [1], hacia la dirección[-5]El caminante, pasa por el puente [4] en el turno [0], hacia la dirección[-5]El caminante, pasa por el puente [0] en el turno [1], hacia la dirección[-5]El caminante, pasa por el puente [1] en el turno [0], hacia la dirección[-8]El caminante, pasa por el puente [0] en el turno [2], hacia la dirección[-6]El caminante, pasa por el puente [0] en el turno [4], hacia la dirección[-8]El caminante, pasa por el puente [2] en el turno [2], hacia la dirección[-6]El caminante, pasa por el puente [3] en el turno [2], hacia la dirección[-8]El caminante, pasa por el puente [1] en el turno [0], hacia la dirección[-8]El caminante, pasa por el puente [3] en el turno [4], hacia la dirección[-6]El caminante, pasa por el puente [1] en el turno [3], hacia la dirección[-6]El caminante, pasa por el puente [3] en el turno [3], hacia la dirección[-6]El caminante, pasa por el puente [4] en el turno [4], hacia la dirección[-6]El caminante, pasa por el puente [1] en el turno [3], hacia la dirección[-6]El caminante, pasa por el puente [1] en el turno [0], hacia la dirección[-8]El caminante, pasa por el puente [2] en el turno [0], hacia la dirección[-5]El caminante, pasa por el puente [1] en el turno [3], hacia la dirección[-6]El caminante, pasa por el puente [1] en el turno [0], hacia la dirección[-8]El caminante, pasa por el puente [4] en el turno [3], hacia la dirección[-6]El caminante, pasa por el puente [4] en el turno [4], hacia la dirección[-6]El caminante, pasa por el puente [3] en el turno [1], hacia la dirección[-5]El caminante, pasa por el puente [0] en el turno [4], hacia la dirección[-6]El caminante, pasa por el puente [3] en el turno [3], hacia la dirección[-6]El caminante, pasa por el puente [3] en el turno [3], hacia la dirección[-6]El caminante, pasa por el puente [4] en el turno [4], hacia la dirección[-6]El caminante, pasa por el puente [2] en el turno [2], hacia la dirección[0]El caminante, pasa por el puente [4] en el turno [0], hacia la dirección[-5]El caminante, pasa por el puente [0] en el turno [2], hacia la dirección[-6]El caminante, pasa por el puente [2] en el turno [3], hacia la dirección[-8]El caminante, pasa por el puente [2] en el turno [2], hacia la dirección[-6]) Y El caminante, pasa por el puente [3] en el turno [2], hacia la dirección[-7]El caminante, pasa por el puente [2] en el turno [0], hacia la dirección[-5]El caminante, pasa por el puente [1] en el turno [0], hacia la dirección[-8]El caminante, pasa por el puente [3] en el turno [3], hacia la dirección[-6]El caminante, pasa por el puente [1] en el turno [3], hacia la dirección[-6]El caminante, pasa por el puente [3] en el turno [0], hacia la dirección[-5]El caminante, pasa por el puente [4] en el turno [4], hacia la dirección[-6]El caminante, pasa por el puente [4] en el turno [0], hacia la dirección[-5]El caminante, pasa por el puente [1] en el turno [3], hacia la dirección[-6]El caminante, pasa por el puente [4] en el turno [0], hacia la dirección[-5]El caminante, pasa por el puente [0] en el turno [2], hacia la dirección[-5]El caminante, pasa por el puente [0] en el turno [4], hacia la dirección[-6]El caminante, pasa por el puente [3] en el turno [2], hacia la dirección[-8]El caminante, pasa por el puente [1] en el turno [0], hacia la dirección[-8]El caminante, pasa por el puente [1] en el turno [1], hacia la dirección[-5]El caminante, pasa por el puente [1] en el turno [3], hacia la dirección[-6]El caminante, pasa por el puente [4] en el turno [1], hacia la dirección[-5]El caminante, pasa por el puente [1] en el turno [3], hacia la dirección[-6]El caminante, pasa por el puente [1] en el turno [0], hacia la dirección[-8]El caminante, pasa por el puente [1] en el turno [1], hacia la dirección[-5]El caminante, pasa por el puente [0] en el turno [1], hacia la dirección[-5]El caminante, pasa por el puente [3] en el turno [1], hacia la dirección[-5]El caminante, pasa por el puente [1] en el turno [0], hacia la dirección[-8]El caminante, pasa por el puente [0] en el turno [4], hacia la dirección[-6]El caminante, pasa por el puente [2] en el turno [0], hacia la dirección[-5]El caminante, pasa por el puente [1] en el turno [0], hacia la dirección[-8]El caminante, pasa por el puente [1] en el turno [1], hacia la dirección[-5]El caminante, pasa por el puente [1] en el turno [2], hacia la dirección[-5]El caminante, pasa por el puente [0] en el turno [4], hacia la dirección[-6]El caminante, pasa por el puente [4] en el turno [0], hacia la dirección[-5]El caminante, pasa por el puente [0] en el turno [2], hacia la dirección[-5]El caminante, pasa por el puente [0] en el turno [4], hacia la dirección[-6]El caminante, pasa por el puente [1] en el turno [0], hacia la dirección[-8]El caminante, pasa por el puente [0] en el turno [2], hacia la dirección[-6]El caminante, pasa por el puente [1] en el turno [4], hacia la dirección[-8]El caminante, pasa por el puente [2] en el turno [2], hacia la dirección[-6]El caminante, pasa por el puente [1] en el turno [0], hacia la dirección[-8]El caminante, pasa por el puente [4] en el turno [0], hacia la dirección[-5]El caminante, pasa por el puente [0] en el turno [1], hacia la dirección[-5]El caminante, pasa por el puente [1] en el turno [0], hacia la dirección[-8]El caminante, pasa por el puente [0] en el turno [4], hacia la dirección[-6]El caminante, pasa por el puente [4] en el turno [0], hacia la dirección[-5]El caminante, pasa por el puente [1] en el turno [0], hacia la dirección[-8]El caminante, pasa por el puente [0] en el turno [4], hacia la dirección[-6]El caminante, pasa por el puente [2] en el turno [0], hacia la dirección[-5]El caminante, pasa por el puente [1] en el turno [0], hacia la dirección[-8]El caminante, pasa por el puente [0] en el turno [2], hacia la dirección[-5]El caminante, pasa por el puente [1] en el turno [2], hacia la dirección[-5]El caminante, pasa por el puente [3] en el turno [1], hacia la dirección[-5]El caminante, pasa por el puente [4] en el turno [0], hacia la dirección[-5]El caminante, pasa por el puente [0] en el turno [1], hacia la dirección[-5]El caminante, pasa por el puente [1] en el turno [0], hacia la dirección[-8]El caminante, pasa por el puente [0] en el turno [2], hacia la dirección[-6]El caminante, pasa por el puente [1] en el turno [4], hacia la dirección[-8]El caminante, pasa por el puente [2] en el turno [2], hacia la dirección[-6]El caminante, pasa por el puente [3] en el turno [2], hacia la dirección[-8]El caminante, pasa por el puente [1] en el turno [0], hacia la dirección[-8]El caminante, pasa por el puente [3] en el turno [4], hacia la dirección[-6]El caminante, pasa por el puente [1] en el turno [3], hacia la dirección[-6]El caminante, pasa por el puente [3] en el turno [3], hacia la dirección[-6]El caminante, pasa por el puente [4] en el turno [4], hacia la dirección[-6]El caminante, pasa por el puente [1] en el turno [3], hacia la dirección[-6]El caminante, pasa por el puente [1] en el turno [0], hacia la dirección[-8]El caminante, pasa por el puente [2] en el turno [0], hacia la dirección[-5]El caminante, pasa por el puente [1] en el turno [3], hacia la dirección[-6]El caminante, pasa por el puente [1] en el turno [0], hacia la dirección[-8]El caminante, pasa por el puente [4] en el turno [3], hacia la dirección[-6]El caminante, pasa por el puente [4] en el turno [4], hacia la dirección[-6]El caminante, pasa por el puente [3] en el turno [1], hacia la dirección[-5]El caminante, pasa por el puente [0] en el turno [4], hacia la dirección[-6]El caminante, pasa por el puente [3] en el turno [3], hacia la dirección[-6]El caminante, pasa por el puente [3] en el turno [3], hacia la dirección[-6]El caminante, pasa por el puente [4] en el turno [4], hacia la dirección[-6]El caminante, pasa por el puente [2] en el turno [2], hacia la dirección[0]El caminante, pasa por el puente [4] en el turno [0], hacia la dirección[-5]El caminante, pasa por el puente [0] en el turno [2], hacia la dirección[-6]El caminante, pasa por el puente [2] en el turno [3], hacia la dirección[-8]El caminante, pasa por el puente [2] en el turno [2], hacia la dirección[-6]))) Y (El caminante, pasa por el puente [2] en el turno [4], hacia la dirección[1] O El caminante, pasa por el puente [1] en el turno [4], hacia la dirección[1] O El caminante, pasa por el puente [3] en el turno [4], hacia la dirección[1])\n"
     ]
    }
   ],
   "source": [
    "# from Logica import visualizar_formula\n",
    "def visualizar_formula(A,D):\n",
    "    '''\n",
    "    Visualiza una fórmula A (como string en notación inorder) usando el descriptor D\n",
    "    '''\n",
    "    vis = []\n",
    "    for c in A:\n",
    "        if c == '-':\n",
    "            vis.append(' no ')\n",
    "        elif c in ['(', ')']:\n",
    "            vis.append(c)\n",
    "        elif c in ['>', 'Y', 'O']:\n",
    "            vis.append(' ' + c + ' ')\n",
    "        elif c == '=':\n",
    "            vis.append(' sii ')\n",
    "        else:\n",
    "            try:\n",
    "                vis.append(D.escribir(c))\n",
    "            except:\n",
    "                raise(\"¡Caracter inválido!\")\n",
    "    return ''.join(vis)\n",
    "\n",
    "#print(visualizar_formula(formula1, caminos))\n",
    "print(visualizar_formula(regla3, caminos))"
   ]
  },
  {
   "cell_type": "markdown",
   "metadata": {},
   "source": [
    "### Paso 2\n",
    "\n",
    "Para el siguiente paso, se debe replicar este procedimiento para los demás números. Es decir, se debe crear una regla que indique que, para cada número $n$, si $n$ ocupa la primera casilla, entonces $n$ no está en ninguna otra casilla. La fórmula de lógica proposicional que expresa esta restricción es la siguiente:\n",
    "\n",
    "$$\\bigwedge_{n\\in Numeros}\\left(OenCasilla_{0,0,n}\\to\\neg\\left(\\bigvee_{(u,v)\\neq (0,0)} OenCasilla_{u,v,n}\\right)\\right)$$\n"
   ]
  },
  {
   "cell_type": "markdown",
   "metadata": {},
   "source": [
    "**Ejercicio 1:** Implemente la fórmula anterior como un string de Python."
   ]
  },
  {
   "cell_type": "code",
   "execution_count": 9,
   "metadata": {
    "collapsed": false,
    "ExecuteTime": {
     "end_time": "2023-05-24T21:42:11.472785Z",
     "start_time": "2023-05-24T21:42:11.384164Z"
    }
   },
   "outputs": [
    {
     "name": "stdout",
     "output_type": "stream",
     "text": [
      "((č>-((((ā>-((ĀOĂ)Oă))Y(ą>-((ĄOĆ)Oć)))Y(ĉ>-((ĈOĊ)Oċ)))Y(č>-((ČOĎ)Oď))))Y(ď>-((((ă>-((ĀOĂ)Oā))Y(ć>-((ĄOĆ)Oą)))Y(ċ>-((ĈOĊ)Oĉ)))Y(ď>-((ČOĎ)Oč)))))\n",
      "((El número 3 está en la casilla (1,0) >  no ((((El número 0 está en la casilla (1,0) >  no ((El número 0 está en la casilla (0,0) O El número 0 está en la casilla (0,1)) O El número 0 está en la casilla (1,1))) Y (El número 1 está en la casilla (1,0) >  no ((El número 1 está en la casilla (0,0) O El número 1 está en la casilla (0,1)) O El número 1 está en la casilla (1,1)))) Y (El número 2 está en la casilla (1,0) >  no ((El número 2 está en la casilla (0,0) O El número 2 está en la casilla (0,1)) O El número 2 está en la casilla (1,1)))) Y (El número 3 está en la casilla (1,0) >  no ((El número 3 está en la casilla (0,0) O El número 3 está en la casilla (0,1)) O El número 3 está en la casilla (1,1))))) Y (El número 3 está en la casilla (1,1) >  no ((((El número 0 está en la casilla (1,1) >  no ((El número 0 está en la casilla (0,0) O El número 0 está en la casilla (0,1)) O El número 0 está en la casilla (1,0))) Y (El número 1 está en la casilla (1,1) >  no ((El número 1 está en la casilla (0,0) O El número 1 está en la casilla (0,1)) O El número 1 está en la casilla (1,0)))) Y (El número 2 está en la casilla (1,1) >  no ((El número 2 está en la casilla (0,0) O El número 2 está en la casilla (0,1)) O El número 2 está en la casilla (1,0)))) Y (El número 3 está en la casilla (1,1) >  no ((El número 3 está en la casilla (0,0) O El número 3 está en la casilla (0,1)) O El número 3 está en la casilla (1,0))))))\n",
      "\n"
     ]
    }
   ],
   "source": [
    "for x in X: \n",
    "    formula3 = ''\n",
    "    inicial3 = True\n",
    "    for y in Y:\n",
    "        casilla = (x,y)\n",
    "        otras_casillas = [(i,j) for i in X for j in Y if (i,j) != (x,y)]\n",
    "        formula1 = ''\n",
    "        inicial1 = True\n",
    "        for n in numeros:\n",
    "            formula_aux = ''\n",
    "            inicial2 = True\n",
    "            for casilla in otras_casillas:\n",
    "                u = casilla[0]\n",
    "                v = casilla[1]\n",
    "                if inicial2:\n",
    "                    formula_aux = OenCasilla.P([u,v,n])\n",
    "                    inicial2 = False\n",
    "                else:\n",
    "                    formula_aux = \"(\" + formula_aux + \"O\" + OenCasilla.P([u,v,n]) + \")\"\n",
    "            if inicial1:\n",
    "                formula1 = \"(\" + OenCasilla.P([x,y,n]) + \">-\" + formula_aux + \")\"\n",
    "                inicial1 = False\n",
    "            else:\n",
    "                formula1 = \"(\" + formula1 + \"Y(\" + OenCasilla.P([x,y,n]) + \">-\" + formula_aux + \"))\"\n",
    "        if inicial3:\n",
    "            formula3 = \"(\" + OenCasilla.P([x,y,n]) + \">-\" + formula1 + \")\"\n",
    "            inicial3 = False\n",
    "        else:\n",
    "            formula3 = \"(\" + formula3 + \"Y(\" + OenCasilla.P([x,y,n]) + \">-\" + formula1 + \"))\"\n",
    "print(formula3)\n",
    "\n",
    "print(visualizar_formula(formula3, OenCasilla))\n",
    "print(\"\")\n"
   ]
  },
  {
   "cell_type": "markdown",
   "metadata": {},
   "source": [
    "---"
   ]
  },
  {
   "cell_type": "markdown",
   "metadata": {},
   "source": [
    "### Paso 3\n",
    "\n",
    "Ahora que hemos creado la restricción para la casilla $(0,0)$, el siguiente paso consiste en replicar esta misma para todas las demás casillas. Con esto, tendremos que cada número podrá estar en a lo sumo una casilla. La fórmula lógica que expresa esta restricción es la siguiente:\n",
    "\n",
    "$$\\bigwedge_{x\\in\\{0,1\\}}\\bigwedge_{y\\in\\{0,1\\}}\\bigwedge_{n\\in Numeros}\\left(OenCasilla_{x,y,n}\\to\\neg\\left(\\bigvee_{(u,v)\\neq (x,y)} OenCasilla_{u,v,n}\\right)\\right)$$\n"
   ]
  },
  {
   "cell_type": "markdown",
   "metadata": {},
   "source": [
    "**Ejercicio 2:** Implemente la fórmula anterior como un string de Python."
   ]
  },
  {
   "cell_type": "markdown",
   "metadata": {},
   "source": [
    "---"
   ]
  },
  {
   "cell_type": "markdown",
   "metadata": {},
   "source": [
    "## Restricción 2\n",
    "\n",
    "La segunda restricción es que no puede haber más de un número en cada casilla. Es decir, si el número $n$ se encuentra dentro de la casilla $(x,y)$, otro número $m\\neq n$ no puede estar dentro de ella. La fórmula lógica que representa esta restricción es la siguiente:\n",
    "\n",
    "$$\\bigwedge_{x\\in\\{0,1\\}}\\bigwedge_{y\\in\\{0,1\\}}\\bigwedge_{n\\in Numeros}\\left(OenCasilla_{x,y,n}\\to\\neg\\left(\\bigvee_{m\\neq n} OenCasilla_{x,y,m}\\right)\\right)$$\n"
   ]
  },
  {
   "cell_type": "markdown",
   "metadata": {},
   "source": [
    "**Ejercicio 3:** Implemente la fórmula anterior como un string de Python."
   ]
  },
  {
   "cell_type": "code",
   "execution_count": 24,
   "metadata": {},
   "outputs": [
    {
     "name": "stdout",
     "output_type": "stream",
     "text": [
      "((č>-((((ā>-((ĀOĂ)Oă))Y(ą>-((ĄOĆ)Oć)))Y(ĉ>-((ĈOĊ)Oċ)))Y(č>-((ČOĎ)Oď))))Y(ď>-((((ă>-((ĀOĂ)Oā))Y(ć>-((ĄOĆ)Oą)))Y(ċ>-((ĈOĊ)Oĉ)))Y(ď>-((ČOĎ)Oč)))))\n",
      "((El número 3 está en la casilla (1,0) >  no ((((El número 0 está en la casilla (1,0) >  no ((El número 0 está en la casilla (0,0) O El número 0 está en la casilla (0,1)) O El número 0 está en la casilla (1,1))) Y (El número 1 está en la casilla (1,0) >  no ((El número 1 está en la casilla (0,0) O El número 1 está en la casilla (0,1)) O El número 1 está en la casilla (1,1)))) Y (El número 2 está en la casilla (1,0) >  no ((El número 2 está en la casilla (0,0) O El número 2 está en la casilla (0,1)) O El número 2 está en la casilla (1,1)))) Y (El número 3 está en la casilla (1,0) >  no ((El número 3 está en la casilla (0,0) O El número 3 está en la casilla (0,1)) O El número 3 está en la casilla (1,1))))) Y (El número 3 está en la casilla (1,1) >  no ((((El número 0 está en la casilla (1,1) >  no ((El número 0 está en la casilla (0,0) O El número 0 está en la casilla (0,1)) O El número 0 está en la casilla (1,0))) Y (El número 1 está en la casilla (1,1) >  no ((El número 1 está en la casilla (0,0) O El número 1 está en la casilla (0,1)) O El número 1 está en la casilla (1,0)))) Y (El número 2 está en la casilla (1,1) >  no ((El número 2 está en la casilla (0,0) O El número 2 está en la casilla (0,1)) O El número 2 está en la casilla (1,0)))) Y (El número 3 está en la casilla (1,1) >  no ((El número 3 está en la casilla (0,0) O El número 3 está en la casilla (0,1)) O El número 3 está en la casilla (1,0))))))\n",
      "\n"
     ]
    }
   ],
   "source": [
    "for x in X: \n",
    "    formula3 = ''\n",
    "    inicial3 = True\n",
    "    for y in Y:\n",
    "        casilla = (x,y)\n",
    "        otras_casillas = [(i,j) for i in X for j in Y if (i,j) != (x,y)]\n",
    "        formula1 = ''\n",
    "        inicial1 = True\n",
    "        for n in numeros:\n",
    "            formula_aux = ''\n",
    "            inicial2 = True\n",
    "            for casilla in otras_casillas:\n",
    "                u = casilla[0]\n",
    "                v = casilla[1]\n",
    "                if inicial2:\n",
    "                    formula_aux = OenCasilla.P([u,v,n])\n",
    "                    inicial2 = False\n",
    "                else:\n",
    "                    formula_aux = \"(\" + formula_aux + \"O\" + OenCasilla.P([u,v,n]) + \")\"\n",
    "            if inicial1:\n",
    "                formula1 = \"(\" + OenCasilla.P([x,y,n]) + \">-\" + formula_aux + \")\"\n",
    "                inicial1 = False\n",
    "            else:\n",
    "                formula1 = \"(\" + formula1 + \"Y(\" + OenCasilla.P([x,y,n]) + \">-\" + formula_aux + \"))\"\n",
    "        if inicial3:\n",
    "            formula3 = \"(\" + OenCasilla.P([x,y,n]) + \">-\" + formula1 + \")\"\n",
    "            inicial3 = False\n",
    "        else:\n",
    "            formula3 = \"(\" + formula3 + \"Y(\" + OenCasilla.P([x,y,n]) + \">-\" + formula1 + \"))\"\n",
    "print(formula3)\n",
    "\n",
    "print(visualizar_formula(formula3, OenCasilla))\n",
    "print(\"\")\n"
   ]
  },
  {
   "cell_type": "markdown",
   "metadata": {},
   "source": [
    "---"
   ]
  },
  {
   "cell_type": "markdown",
   "metadata": {},
   "source": [
    "## Restricción 3\n",
    "\n",
    "La tercera restricción es que debe haber por lo menos un número en cada casilla. La fórmula lógica que representa esta restricción es la siguiente:\n",
    "\n",
    "$$\\bigwedge_{x\\in\\{0,1\\}}\\bigwedge_{y\\in\\{0,1\\}}\\left(\\bigvee_{n\\in Numeros}OenCasilla_{x,y,n}\\right)$$\n"
   ]
  },
  {
   "cell_type": "markdown",
   "metadata": {},
   "source": [
    "**Ejercicio 4:** Implemente la fórmula anterior como un string de Python."
   ]
  },
  {
   "cell_type": "code",
   "execution_count": 25,
   "metadata": {
    "collapsed": false
   },
   "outputs": [
    {
     "name": "stdout",
     "output_type": "stream",
     "text": [
      "((((Y(ă>-((ĀOĂ)Oā)))Y(ć>-((ĄOĆ)Oą)))Y(ċ>-((ĈOĊ)Oĉ)))Y(ď>-((ČOĎ)Oč)))\n",
      "(((( Y (El número 0 está en la casilla (1,1) >  no ((El número 0 está en la casilla (0,0) O El número 0 está en la casilla (0,1)) O El número 0 está en la casilla (1,0)))) Y (El número 1 está en la casilla (1,1) >  no ((El número 1 está en la casilla (0,0) O El número 1 está en la casilla (0,1)) O El número 1 está en la casilla (1,0)))) Y (El número 2 está en la casilla (1,1) >  no ((El número 2 está en la casilla (0,0) O El número 2 está en la casilla (0,1)) O El número 2 está en la casilla (1,0)))) Y (El número 3 está en la casilla (1,1) >  no ((El número 3 está en la casilla (0,0) O El número 3 está en la casilla (0,1)) O El número 3 está en la casilla (1,0))))\n"
     ]
    }
   ],
   "source": [
    "formula1 = ''\n",
    "inicial1 = True\n",
    "for x in X:\n",
    "    for y in Y:\n",
    "        formula1 = ''\n",
    "        inicial = True\n",
    "        for n in numeros:\n",
    "            formula_aux = ''\n",
    "            inicial2 = True\n",
    "            for casilla in otras_casillas:\n",
    "                u = casilla[0]\n",
    "                v = casilla[1]\n",
    "                if inicial2:\n",
    "                    formula_aux = OenCasilla.P([u,v,n])\n",
    "                    inicial2 = False\n",
    "                else:\n",
    "                    formula_aux = \"(\" + formula_aux + \"O\" + OenCasilla.P([u,v,n]) + \")\"\n",
    "            if inicial1:\n",
    "                formula1 = \"(\" + OenCasilla.P([x,y,n]) + \">-\" + formula_aux + \")\"\n",
    "                inicial1 = False\n",
    "            else:\n",
    "                formula1 = \"(\" + formula1 + \"Y(\" + OenCasilla.P([x,y,n]) + \">-\" + formula_aux + \"))\"\n",
    "\n",
    "print(formula1)\n",
    "print(visualizar_formula(formula1, OenCasilla))"
   ]
  },
  {
   "cell_type": "markdown",
   "metadata": {},
   "source": [
    "---"
   ]
  },
  {
   "cell_type": "markdown",
   "metadata": {},
   "source": [
    "En este taller usted aprendió a:\n",
    "\n",
    "1) Empaquetar información mediante letras proposicionales.\n",
    "\n",
    "2) Usar un objeto descriptor para cruzar información en Python.\n",
    "\n",
    "3) Implementar las notaciones $\\displaystyle\\bigwedge_{x\\in SET}$  y  $\\displaystyle\\bigvee_{x\\in SET}$ dentro de Python.\n",
    "\n",
    "4) Implementar restricciones como un string que contiene una fórmula en notación inorder."
   ]
  }
 ],
 "metadata": {
  "kernelspec": {
   "display_name": "Python 3 (ipykernel)",
   "language": "python",
   "name": "python3"
  },
  "language_info": {
   "codemirror_mode": {
    "name": "ipython",
    "version": 3
   },
   "file_extension": ".py",
   "mimetype": "text/x-python",
   "name": "python",
   "nbconvert_exporter": "python",
   "pygments_lexer": "ipython3",
   "version": "3.10.8"
  }
 },
 "nbformat": 4,
 "nbformat_minor": 4
}
